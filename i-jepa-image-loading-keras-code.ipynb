{
 "cells": [
  {
   "cell_type": "code",
   "execution_count": 1,
   "id": "d1a7b568",
   "metadata": {
    "_cell_guid": "b1076dfc-b9ad-4769-8c92-a6c4dae69d19",
    "_uuid": "8f2839f25d086af736a60e9eeb907d3b93b6e0e5",
    "execution": {
     "iopub.execute_input": "2024-06-29T16:21:35.663795Z",
     "iopub.status.busy": "2024-06-29T16:21:35.663080Z",
     "iopub.status.idle": "2024-06-29T16:21:48.387794Z",
     "shell.execute_reply": "2024-06-29T16:21:48.386692Z"
    },
    "papermill": {
     "duration": 12.730606,
     "end_time": "2024-06-29T16:21:48.389886",
     "exception": false,
     "start_time": "2024-06-29T16:21:35.659280",
     "status": "completed"
    },
    "tags": []
   },
   "outputs": [
    {
     "name": "stderr",
     "output_type": "stream",
     "text": [
      "2024-06-29 16:21:38.190161: E external/local_xla/xla/stream_executor/cuda/cuda_dnn.cc:9261] Unable to register cuDNN factory: Attempting to register factory for plugin cuDNN when one has already been registered\n",
      "2024-06-29 16:21:38.190271: E external/local_xla/xla/stream_executor/cuda/cuda_fft.cc:607] Unable to register cuFFT factory: Attempting to register factory for plugin cuFFT when one has already been registered\n",
      "2024-06-29 16:21:38.326999: E external/local_xla/xla/stream_executor/cuda/cuda_blas.cc:1515] Unable to register cuBLAS factory: Attempting to register factory for plugin cuBLAS when one has already been registered\n"
     ]
    },
    {
     "name": "stdout",
     "output_type": "stream",
     "text": [
      "loaded.\n"
     ]
    }
   ],
   "source": [
    "# This Python 3 environment comes with many helpful analytics libraries installed\n",
    "# It is defined by the kaggle/python Docker image: https://github.com/kaggle/docker-python\n",
    "# For example, here's several helpful packages to load\n",
    "\n",
    "import numpy as np # linear algebra\n",
    "import pandas as pd # data processing, CSV file I/O (e.g. pd.read_csv)\n",
    "import tensorflow as tf\n",
    "\n",
    "import keras\n",
    "from keras import layers, ops\n",
    "\n",
    "# Input data files are available in the read-only \"../input/\" directory\n",
    "# For example, running this (by clicking run or pressing Shift+Enter) will list all files under the input directory\n",
    "\n",
    "import os, sys\n",
    "\n",
    "# You can write up to 20GB to the current directory (/kaggle/working/) that gets preserved as output when you create a version using \"Save & Run All\" \n",
    "# You can also write temporary files to /kaggle/temp/, but they won't be saved outside of the current sessioㅔ갸ㅜ\n",
    "\n",
    "print('loaded.')"
   ]
  },
  {
   "cell_type": "code",
   "execution_count": 2,
   "id": "717bf328",
   "metadata": {
    "execution": {
     "iopub.execute_input": "2024-06-29T16:21:48.395832Z",
     "iopub.status.busy": "2024-06-29T16:21:48.395330Z",
     "iopub.status.idle": "2024-06-29T16:21:49.146839Z",
     "shell.execute_reply": "2024-06-29T16:21:49.145940Z"
    },
    "papermill": {
     "duration": 0.756916,
     "end_time": "2024-06-29T16:21:49.149140",
     "exception": false,
     "start_time": "2024-06-29T16:21:48.392224",
     "status": "completed"
    },
    "tags": []
   },
   "outputs": [
    {
     "data": {
      "text/plain": [
       "(TensorShape([32, 160, 160, 3]),\n",
       " [26,\n",
       "  27,\n",
       "  28,\n",
       "  29,\n",
       "  30,\n",
       "  34,\n",
       "  35,\n",
       "  36,\n",
       "  37,\n",
       "  38,\n",
       "  42,\n",
       "  43,\n",
       "  44,\n",
       "  45,\n",
       "  46,\n",
       "  50,\n",
       "  51,\n",
       "  52,\n",
       "  53,\n",
       "  54,\n",
       "  58,\n",
       "  59,\n",
       "  60,\n",
       "  61,\n",
       "  62],\n",
       " [TensorShape([32, 32, 32, 3]),\n",
       "  TensorShape([32, 64, 64, 3]),\n",
       "  TensorShape([32, 96, 128, 3]),\n",
       "  TensorShape([32, 32, 32, 3])],\n",
       " [[55], [12, 13, 20, 21], [2, 3, 4, 5, 10, 11, 12, 13, 18, 19, 20, 21], [17]])"
      ]
     },
     "execution_count": 2,
     "metadata": {},
     "output_type": "execute_result"
    }
   ],
   "source": [
    "class ContextTargetExtractor(layers.Layer):\n",
    "    def __init__(self, patch_size=32, context_scale=(0.5, 0.75), \n",
    "                 target_scale=(0.15, 0.75), target_aspect_ratio=(0.75, 1.5), num_targets=4, padding=False, **kwargs):\n",
    "        super(ContextTargetExtractor, self).__init__(**kwargs)\n",
    "        self.patch_size = patch_size\n",
    "        self.context_scale = context_scale\n",
    "        self.target_scale = target_scale\n",
    "        self.target_aspect_ratio = target_aspect_ratio\n",
    "        self.num_targets = num_targets\n",
    "        self.padding = padding\n",
    "\n",
    "    def call(self, inputs):\n",
    "        batch_size, img_height, img_width, channels = ops.shape(inputs)[0], ops.shape(inputs)[1], ops.shape(inputs)[2], ops.shape(inputs)[3]\n",
    "\n",
    "        # 이미지를 패치로 나누기\n",
    "        patches = tf.image.extract_patches(images=inputs,\n",
    "                                           sizes=[1, self.patch_size, self.patch_size, 1],\n",
    "                                           strides=[1, self.patch_size, self.patch_size, 1],\n",
    "                                           rates=[1, 1, 1, 1],\n",
    "                                           padding='VALID')\n",
    "        num_patches_x = img_width // self.patch_size\n",
    "        num_patches_y = img_height // self.patch_size\n",
    "        num_patches = num_patches_x * num_patches_y\n",
    "        patches = ops.reshape(patches, [batch_size, num_patches_y, num_patches_x, self.patch_size, self.patch_size, channels])\n",
    "\n",
    "        # Context와 Target 블록 생성\n",
    "        context_block, context_positions = self.sample_block(patches, self.context_scale, img_height, img_width, num_patches_x, num_patches_y)\n",
    "        target_blocks = []\n",
    "        target_positions = []\n",
    "        for _ in range(self.num_targets):\n",
    "            target_block, target_position = self.sample_block(patches, self.target_scale, img_height, img_width, num_patches_x, num_patches_y, context_positions)\n",
    "            target_blocks.append(target_block)\n",
    "            target_positions.append(target_position)\n",
    "        \n",
    "        # Context 블록을 원래 이미지 크기로 zero padding (필요할 경우)\n",
    "        if self.padding:\n",
    "            context_block = tf.image.pad_to_bounding_box(context_block, 0, 0, img_height, img_width)\n",
    "        \n",
    "        return context_block, target_blocks, context_positions, target_positions\n",
    "\n",
    "    def sample_block(self, patches, scale_range, img_height, img_width, num_patches_x, num_patches_y, context_positions=None):\n",
    "        scale = np.random.uniform(scale_range[0], scale_range[1])\n",
    "        block_num_patches_y = max(1, int(scale * num_patches_y))\n",
    "        block_num_patches_x = max(1, int(block_num_patches_y * np.random.uniform(self.target_aspect_ratio[0], self.target_aspect_ratio[1])))\n",
    "        \n",
    "        block_num_patches_x = min(block_num_patches_x, num_patches_x)  # Ensure block fits within image\n",
    "        block_num_patches_y = min(block_num_patches_y, num_patches_y)  # Ensure block fits within image\n",
    "\n",
    "        for _ in range(100):\n",
    "            start_patch_y = np.random.randint(0, num_patches_y - block_num_patches_y + 1)\n",
    "            start_patch_x = np.random.randint(0, num_patches_x - block_num_patches_x + 1)\n",
    "            end_patch_y = start_patch_y + block_num_patches_y\n",
    "            end_patch_x = start_patch_x + block_num_patches_x\n",
    "\n",
    "            block_positions = [(y * num_patches_x + x) for y in range(start_patch_y, end_patch_y) for x in range(start_patch_x, end_patch_x)]\n",
    "            \n",
    "            if context_positions is None or not any(pos in context_positions for pos in block_positions):\n",
    "                break\n",
    "\n",
    "        block = patches[:, start_patch_y:end_patch_y, start_patch_x:end_patch_x, :, :, :]\n",
    "        block = ops.reshape(block, [ops.shape(patches)[0], block_num_patches_y * self.patch_size, block_num_patches_x * self.patch_size, ops.shape(patches)[-1]])\n",
    "        \n",
    "        return block, block_positions\n",
    "# 임의의 이미지 데이터를 사용한 예제\n",
    "image = tf.random.normal((32, 256, 256, 3))\n",
    "\n",
    "# Context와 Target 추출 레이어\n",
    "extractor = ContextTargetExtractor(patch_size=32, padding=False)\n",
    "context, targets, context_positions, target_positions = extractor(image)\n",
    "\n",
    "context_shape = context.shape\n",
    "context_positions_list = context_positions\n",
    "target_shapes = [target.shape for target in targets]\n",
    "target_positions_list = target_positions\n",
    "\n",
    "context_shape, context_positions_list, target_shapes, target_positions_list"
   ]
  }
 ],
 "metadata": {
  "kaggle": {
   "accelerator": "gpu",
   "dataSources": [],
   "dockerImageVersionId": 30732,
   "isGpuEnabled": true,
   "isInternetEnabled": true,
   "language": "python",
   "sourceType": "notebook"
  },
  "kernelspec": {
   "display_name": "Python 3",
   "language": "python",
   "name": "python3"
  },
  "language_info": {
   "codemirror_mode": {
    "name": "ipython",
    "version": 3
   },
   "file_extension": ".py",
   "mimetype": "text/x-python",
   "name": "python",
   "nbconvert_exporter": "python",
   "pygments_lexer": "ipython3",
   "version": "3.10.13"
  },
  "papermill": {
   "default_parameters": {},
   "duration": 18.095047,
   "end_time": "2024-06-29T16:21:50.976026",
   "environment_variables": {},
   "exception": null,
   "input_path": "__notebook__.ipynb",
   "output_path": "__notebook__.ipynb",
   "parameters": {},
   "start_time": "2024-06-29T16:21:32.880979",
   "version": "2.5.0"
  }
 },
 "nbformat": 4,
 "nbformat_minor": 5
}
