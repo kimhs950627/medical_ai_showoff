{
 "cells": [
  {
   "cell_type": "code",
   "execution_count": 1,
   "id": "ed25801f",
   "metadata": {
    "_cell_guid": "b1076dfc-b9ad-4769-8c92-a6c4dae69d19",
    "_uuid": "8f2839f25d086af736a60e9eeb907d3b93b6e0e5",
    "execution": {
     "iopub.execute_input": "2024-06-18T07:02:20.443641Z",
     "iopub.status.busy": "2024-06-18T07:02:20.443282Z",
     "iopub.status.idle": "2024-06-18T07:02:45.328719Z",
     "shell.execute_reply": "2024-06-18T07:02:45.327511Z"
    },
    "jupyter": {
     "source_hidden": true
    },
    "papermill": {
     "duration": 24.896302,
     "end_time": "2024-06-18T07:02:45.331033",
     "exception": false,
     "start_time": "2024-06-18T07:02:20.434731",
     "status": "completed"
    },
    "tags": []
   },
   "outputs": [
    {
     "name": "stderr",
     "output_type": "stream",
     "text": [
      "2024-06-18 07:02:24.461489: E external/local_xla/xla/stream_executor/cuda/cuda_dnn.cc:9261] Unable to register cuDNN factory: Attempting to register factory for plugin cuDNN when one has already been registered\n",
      "2024-06-18 07:02:24.461600: E external/local_xla/xla/stream_executor/cuda/cuda_fft.cc:607] Unable to register cuFFT factory: Attempting to register factory for plugin cuFFT when one has already been registered\n",
      "2024-06-18 07:02:24.594644: E external/local_xla/xla/stream_executor/cuda/cuda_blas.cc:1515] Unable to register cuBLAS factory: Attempting to register factory for plugin cuBLAS when one has already been registered\n"
     ]
    },
    {
     "name": "stdout",
     "output_type": "stream",
     "text": [
      "Tensorflow version : 2.15.0\n",
      "Keras version : 3.3.3\n",
      "Running on 1 replicas\n",
      "batch size 8\n"
     ]
    }
   ],
   "source": [
    "import pandas as pd\n",
    "import numpy as np\n",
    "import os, sys\n",
    "import random\n",
    "import pydicom\n",
    "\n",
    "from sklearn.manifold import TSNE\n",
    "import re\n",
    "import matplotlib.pyplot as plt\n",
    "import matplotlib.cm as cm\n",
    "seed = 2024\n",
    "\n",
    "import warnings\n",
    "warnings.filterwarnings(\"ignore\")\n",
    "\n",
    "# ML tools \n",
    "sys.path.append(\"/kaggle/input/kimm-keras-image-model-repository\"\n",
    "               )\n",
    "\n",
    "import tensorflow as tf\n",
    "import keras# ; keras.config.set_dtype_policy(\"mixed_float16\")\n",
    "import kimm\n",
    "import keras_cv\n",
    "import keras_nlp\n",
    "\n",
    "import cv2\n",
    "from skimage.io import imread\n",
    "keras.utils.set_random_seed(seed)\n",
    "import tensorflow_io as tfio\n",
    "from kaggle_datasets import KaggleDatasets\n",
    "import tensorflow_datasets as tfds\n",
    "import tensorflow_probability as tfp\n",
    "import tensorflow_decision_forests as tfdf\n",
    "\n",
    "print(f\"Tensorflow version : {tf.__version__}\")\n",
    "try:\n",
    "    print(f\"Keras version : {keras.__version__}\")\n",
    "except:\n",
    "    pass\n",
    "\n",
    "from keras import Input, Model, ops\n",
    "from keras.models import load_model\n",
    "\n",
    "from keras.layers import Conv2D, DepthwiseConv2D, Dense, Activation, BatchNormalization, LayerNormalization, MultiHeadAttention, Embedding, Subtract, Add, Multiply, GlobalAveragePooling2D, GlobalAveragePooling1D, LayerNormalization\n",
    "from keras.utils import load_img, img_to_array\n",
    "from keras.applications import *\n",
    "os.environ['TF_CPP_MIN_LOG_LEVEL'] = '3'\n",
    "from sklearn.model_selection import train_test_split\n",
    "from keras.callbacks import ReduceLROnPlateau, ModelCheckpoint, EarlyStopping\n",
    "from tqdm.notebook import tqdm\n",
    "import wandb\n",
    "#from wandb.keras import WandbCallback, WandbModelCheckpoint, WandbMetricsLogger\n",
    "def wandb_config():\n",
    "    from kaggle_secrets import UserSecretsClient\n",
    "    user_secrets = UserSecretsClient()\n",
    "    try:\n",
    "        secret_value_0 = user_secrets.get_secret(\"__gcloud_sdk_auth__\")\n",
    "        secret_value_1 = user_secrets.get_secret(\"huggingface_key\")\n",
    "        secret_value_2 = user_secrets.get_secret(\"wandb_key\")\n",
    "        !wandb login $secret_value_2\n",
    "    except:\n",
    "        secret_value_0 = user_secrets.get_secret(\"huggingface_key\")\n",
    "        secret_value_1 = user_secrets.get_secret(\"wandb_key\")\n",
    "        !wandb login $secret_value_1\n",
    "    \n",
    "\n",
    "res = int(1.5*256)\n",
    "small_res = 64\n",
    "batch_size = 8\n",
    "embed_dims = 1024\n",
    "n_multicrop = 4\n",
    "\n",
    "def auto_select_accelerator():\n",
    "    try:\n",
    "        tpu = tf.distribute.cluster_resolver.TPUClusterResolver()\n",
    "        tf.config.experimental_connect_to_cluster(tpu)\n",
    "        tf.tpu.experimental.initialize_tpu_system(tpu)\n",
    "        strategy = tf.distribute.experimental.TPUStrategy(tpu)\n",
    "        print(\"Running on TPU:\", tpu.master())\n",
    "    except ValueError:\n",
    "        tpu = False\n",
    "        strategy = tf.distribute.MirroredStrategy() # for GPU or multi-GPU machines\n",
    "    print(f\"Running on {strategy.num_replicas_in_sync} replicas\")\n",
    "    \n",
    "    return tpu, strategy\n",
    "\n",
    "tpu, strategy = auto_select_accelerator()\n",
    "batch_size = strategy.num_replicas_in_sync * batch_size\n",
    "print('batch size', batch_size)\n"
   ]
  },
  {
   "cell_type": "code",
   "execution_count": 2,
   "id": "58cfdddd",
   "metadata": {
    "_kg_hide-output": true,
    "execution": {
     "iopub.execute_input": "2024-06-18T07:02:45.345734Z",
     "iopub.status.busy": "2024-06-18T07:02:45.345402Z",
     "iopub.status.idle": "2024-06-18T07:02:45.477719Z",
     "shell.execute_reply": "2024-06-18T07:02:45.476788Z"
    },
    "papermill": {
     "duration": 0.141793,
     "end_time": "2024-06-18T07:02:45.479792",
     "exception": false,
     "start_time": "2024-06-18T07:02:45.337999",
     "status": "completed"
    },
    "tags": []
   },
   "outputs": [
    {
     "name": "stdout",
     "output_type": "stream",
     "text": [
      "Requirements loaded, keras : v3.3.3, Tensorflow : v2.15.0\n",
      "RandAug Component in this SSL module :  ['random_contrast', 'random_brightness', 'random_shear', 'random_shear_1', 'random_translation', 'random_translation_1']\n"
     ]
    },
    {
     "data": {
      "text/plain": [
       "{'models_from_kimm': ['ConvMixer1024D20',\n",
       "  'ConvMixer1536D20',\n",
       "  'ConvMixer736D32',\n",
       "  'ConvNeXtAtto',\n",
       "  'ConvNeXtBase',\n",
       "  'ConvNeXtFemto',\n",
       "  'ConvNeXtLarge',\n",
       "  'ConvNeXtNano',\n",
       "  'ConvNeXtPico',\n",
       "  'ConvNeXtSmall',\n",
       "  'ConvNeXtTiny',\n",
       "  'ConvNeXtXLarge',\n",
       "  'DenseNet121',\n",
       "  'DenseNet161',\n",
       "  'DenseNet169',\n",
       "  'DenseNet201',\n",
       "  'EfficientNetB0',\n",
       "  'EfficientNetB1',\n",
       "  'EfficientNetB2',\n",
       "  'EfficientNetB3',\n",
       "  'EfficientNetB4',\n",
       "  'EfficientNetB5',\n",
       "  'EfficientNetB6',\n",
       "  'EfficientNetB7',\n",
       "  'EfficientNetLiteB0',\n",
       "  'EfficientNetLiteB1',\n",
       "  'EfficientNetLiteB2',\n",
       "  'EfficientNetLiteB3',\n",
       "  'EfficientNetLiteB4',\n",
       "  'EfficientNetV2B0',\n",
       "  'EfficientNetV2B1',\n",
       "  'EfficientNetV2B2',\n",
       "  'EfficientNetV2B3',\n",
       "  'EfficientNetV2L',\n",
       "  'EfficientNetV2M',\n",
       "  'EfficientNetV2S',\n",
       "  'EfficientNetV2XL',\n",
       "  'GhostNet050',\n",
       "  'GhostNet100',\n",
       "  'GhostNet100V2',\n",
       "  'GhostNet130',\n",
       "  'GhostNet130V2',\n",
       "  'GhostNet160V2',\n",
       "  'HGNetBase',\n",
       "  'HGNetSmall',\n",
       "  'HGNetTiny',\n",
       "  'HGNetV2B0',\n",
       "  'HGNetV2B1',\n",
       "  'HGNetV2B2',\n",
       "  'HGNetV2B3',\n",
       "  'HGNetV2B4',\n",
       "  'HGNetV2B5',\n",
       "  'HGNetV2B6',\n",
       "  'InceptionNeXtBase',\n",
       "  'InceptionNeXtSmall',\n",
       "  'InceptionNeXtTiny',\n",
       "  'InceptionV3',\n",
       "  'LCNet035',\n",
       "  'LCNet050',\n",
       "  'LCNet075',\n",
       "  'LCNet100',\n",
       "  'LCNet150',\n",
       "  'MobileNetV2W050',\n",
       "  'MobileNetV2W100',\n",
       "  'MobileNetV2W110',\n",
       "  'MobileNetV2W120',\n",
       "  'MobileNetV2W140',\n",
       "  'MobileNetV3W050Small',\n",
       "  'MobileNetV3W075Small',\n",
       "  'MobileNetV3W100Large',\n",
       "  'MobileNetV3W100LargeMinimal',\n",
       "  'MobileNetV3W100Small',\n",
       "  'MobileNetV3W100SmallMinimal',\n",
       "  'MobileOneS0',\n",
       "  'MobileOneS1',\n",
       "  'MobileOneS2',\n",
       "  'MobileOneS3',\n",
       "  'MobileViTS',\n",
       "  'MobileViTV2W050',\n",
       "  'MobileViTV2W075',\n",
       "  'MobileViTV2W100',\n",
       "  'MobileViTV2W125',\n",
       "  'MobileViTV2W150',\n",
       "  'MobileViTV2W175',\n",
       "  'MobileViTV2W200',\n",
       "  'MobileViTXS',\n",
       "  'MobileViTXXS',\n",
       "  'RegNetX002',\n",
       "  'RegNetX004',\n",
       "  'RegNetX006',\n",
       "  'RegNetX008',\n",
       "  'RegNetX016',\n",
       "  'RegNetX032',\n",
       "  'RegNetX040',\n",
       "  'RegNetX064',\n",
       "  'RegNetX080',\n",
       "  'RegNetX120',\n",
       "  'RegNetX160',\n",
       "  'RegNetX320',\n",
       "  'RegNetY002',\n",
       "  'RegNetY004',\n",
       "  'RegNetY006',\n",
       "  'RegNetY008',\n",
       "  'RegNetY016',\n",
       "  'RegNetY032',\n",
       "  'RegNetY040',\n",
       "  'RegNetY064',\n",
       "  'RegNetY080',\n",
       "  'RegNetY120',\n",
       "  'RegNetY160',\n",
       "  'RegNetY320',\n",
       "  'RepVGGA0',\n",
       "  'RepVGGA1',\n",
       "  'RepVGGA2',\n",
       "  'RepVGGB0',\n",
       "  'RepVGGB1',\n",
       "  'RepVGGB2',\n",
       "  'RepVGGB3',\n",
       "  'ResNet101',\n",
       "  'ResNet152',\n",
       "  'ResNet18',\n",
       "  'ResNet34',\n",
       "  'ResNet50',\n",
       "  'TinyNetA',\n",
       "  'TinyNetB',\n",
       "  'TinyNetC',\n",
       "  'TinyNetD',\n",
       "  'TinyNetE',\n",
       "  'VGG11',\n",
       "  'VGG13',\n",
       "  'VGG16',\n",
       "  'VGG19',\n",
       "  'VisionTransformerBase16',\n",
       "  'VisionTransformerBase32',\n",
       "  'VisionTransformerLarge16',\n",
       "  'VisionTransformerLarge32',\n",
       "  'VisionTransformerSmall16',\n",
       "  'VisionTransformerSmall32',\n",
       "  'VisionTransformerTiny16',\n",
       "  'VisionTransformerTiny32',\n",
       "  'Xception'],\n",
       " 'models_from_keras': ['effnet',\n",
       "  'effnet_small',\n",
       "  'effnet_base',\n",
       "  'convnext',\n",
       "  'convnext_small',\n",
       "  'convnext_base',\n",
       "  'mlpmixer_patch_depth_dims',\n",
       "  'convmixer_patch_depth_dims']}"
      ]
     },
     "execution_count": 2,
     "metadata": {},
     "output_type": "execute_result"
    }
   ],
   "source": [
    "import ssl_module\n",
    "from ssl_module import get_map_fn, get_gcvit_configs, get_flops, att_visualize, get_full_model, AttentionPooling, BarlowModel, VICRegModel, Moco, SimSiam, CLIP, SigLIP\n",
    "import nas_ftp_module\n",
    "from nas_ftp_module import upload_file, download_file\n",
    "ssl_module.available_models()"
   ]
  },
  {
   "cell_type": "markdown",
   "id": "855e8fcc",
   "metadata": {
    "papermill": {
     "duration": 0.006732,
     "end_time": "2024-06-18T07:02:45.493458",
     "exception": false,
     "start_time": "2024-06-18T07:02:45.486726",
     "status": "completed"
    },
    "tags": []
   },
   "source": [
    "- radimagenet tfrecord key : image, label\n",
    "- nih cxr tfrecord key : image_raw, label"
   ]
  },
  {
   "cell_type": "markdown",
   "id": "a01f8866",
   "metadata": {
    "papermill": {
     "duration": 0.006752,
     "end_time": "2024-06-18T07:02:45.507028",
     "exception": false,
     "start_time": "2024-06-18T07:02:45.500276",
     "status": "completed"
    },
    "tags": []
   },
   "source": [
    "# RadImageNet decoding"
   ]
  },
  {
   "cell_type": "code",
   "execution_count": 3,
   "id": "105b5913",
   "metadata": {
    "_kg_hide-input": true,
    "execution": {
     "iopub.execute_input": "2024-06-18T07:02:45.522571Z",
     "iopub.status.busy": "2024-06-18T07:02:45.521951Z",
     "iopub.status.idle": "2024-06-18T07:02:54.700070Z",
     "shell.execute_reply": "2024-06-18T07:02:54.699120Z"
    },
    "papermill": {
     "duration": 9.188286,
     "end_time": "2024-06-18T07:02:54.702332",
     "exception": false,
     "start_time": "2024-06-18T07:02:45.514046",
     "status": "completed"
    },
    "tags": []
   },
   "outputs": [
    {
     "name": "stdout",
     "output_type": "stream",
     "text": [
      "(8, 384, 384, 1)\n",
      "tf.Tensor([114  30 114 157  83 146 107 151], shape=(8,), dtype=int32)\n"
     ]
    }
   ],
   "source": [
    "def _parse_tfrecord(res = res):\n",
    "    def parse_tfrecord(tfrecord):\n",
    "        features = {'image': tf.io.FixedLenFeature([], tf.string),\n",
    "                    'label': tf.io.FixedLenFeature([], tf.int64),\n",
    "                    }\n",
    "        x = tf.io.parse_single_example(tfrecord, features)\n",
    "        image_train = tf.image.decode_jpeg(x['image'], channels=1)\n",
    "        image_train = _transform_images(res = res)(image_train)\n",
    "        label = tf.cast(x[\"label\"], tf.int32)\n",
    "        return (image_train, label)\n",
    "    \n",
    "    return parse_tfrecord\n",
    "\n",
    "\n",
    "def _transform_images(res = res):\n",
    "    def transform_images(x_train):\n",
    "        x_train = tf.image.resize_with_pad(x_train, res, res, antialias = True)\n",
    "        x_train = tf.cast(x_train, tf.uint8)\n",
    "        return x_train\n",
    "    return transform_images\n",
    "\n",
    "def load_tfrecord_dataset(tfrecord_name, res = res, batch_size = batch_size, shuffle=True, buffer_size=10240):\n",
    "    \"\"\"load dataset from tfrecord\"\"\"\n",
    "    raw_dataset = tf.data.TFRecordDataset(tfrecord_name, compression_type = \"GZIP\")\n",
    "    raw_dataset = raw_dataset.repeat()\n",
    "    if shuffle:\n",
    "        raw_dataset = raw_dataset.shuffle(buffer_size=buffer_size)\n",
    "    dataset = raw_dataset.map(\n",
    "        _parse_tfrecord(),\n",
    "        num_parallel_calls=tf.data.AUTOTUNE\n",
    "    )\n",
    "    dataset = dataset.batch(batch_size)\n",
    "    dataset = dataset.prefetch(buffer_size=tf.data.AUTOTUNE)\n",
    "    return dataset\n",
    "\n",
    "train_radimagenet_ds = load_tfrecord_dataset(\"/kaggle/input/radimagenet-and-nih-cxr-dataset-tfrecord/RagImageNet_Train_GZIP.tfrecord\")\n",
    "val_ds = load_tfrecord_dataset(\"/kaggle/input/radimagenet-and-nih-cxr-dataset-tfrecord/RagImageNet_Test_GZIP.tfrecord\")\n",
    "for img, label in val_ds.take(1):\n",
    "    print(ops.shape(img))\n",
    "    print(label)"
   ]
  },
  {
   "cell_type": "markdown",
   "id": "36b7bfc1",
   "metadata": {
    "papermill": {
     "duration": 0.006732,
     "end_time": "2024-06-18T07:02:54.716146",
     "exception": false,
     "start_time": "2024-06-18T07:02:54.709414",
     "status": "completed"
    },
    "tags": []
   },
   "source": [
    "# NIH CXR decoding"
   ]
  },
  {
   "cell_type": "code",
   "execution_count": 4,
   "id": "ec3f4420",
   "metadata": {
    "_kg_hide-input": true,
    "execution": {
     "iopub.execute_input": "2024-06-18T07:02:54.731149Z",
     "iopub.status.busy": "2024-06-18T07:02:54.730784Z",
     "iopub.status.idle": "2024-06-18T07:02:55.007034Z",
     "shell.execute_reply": "2024-06-18T07:02:55.006246Z"
    },
    "papermill": {
     "duration": 0.2865,
     "end_time": "2024-06-18T07:02:55.009352",
     "exception": false,
     "start_time": "2024-06-18T07:02:54.722852",
     "status": "completed"
    },
    "tags": []
   },
   "outputs": [],
   "source": [
    "def _parse_tfrecord(res = res):\n",
    "    def parse_tfrecord(tfrecord):\n",
    "        features = {'image_raw': tf.io.FixedLenFeature([], tf.string),\n",
    "                    'label': tf.io.FixedLenFeature([], tf.int64),\n",
    "                    }\n",
    "        x = tf.io.parse_single_example(tfrecord, features)\n",
    "        image_train = tf.image.decode_jpeg(x['image_raw'], channels=1)\n",
    "        image_train = _transform_images(res = res)(image_train)\n",
    "        label = tf.cast(x[\"label\"], tf.int32)\n",
    "        return (image_train, label)\n",
    "    \n",
    "    return parse_tfrecord\n",
    "\n",
    "\n",
    "def _transform_images(res = res):\n",
    "    def transform_images(x_train):\n",
    "        x_train = tf.image.resize_with_pad(x_train, res, res, antialias = True)\n",
    "        x_train = tf.cast(x_train, tf.uint8)\n",
    "        return x_train\n",
    "    return transform_images\n",
    "\n",
    "def load_tfrecord_dataset(tfrecord_name, res = res, batch_size = batch_size, shuffle=True, buffer_size=10240):\n",
    "    \"\"\"load dataset from tfrecord\"\"\"\n",
    "    raw_dataset = tf.data.TFRecordDataset(tfrecord_name)\n",
    "    raw_dataset = raw_dataset.repeat()\n",
    "    if shuffle:\n",
    "        raw_dataset = raw_dataset.shuffle(buffer_size=buffer_size)\n",
    "    dataset = raw_dataset.map(\n",
    "        _parse_tfrecord(),\n",
    "        num_parallel_calls=tf.data.AUTOTUNE\n",
    "    )\n",
    "    if batch_size:\n",
    "        dataset = dataset.batch(batch_size)\n",
    "    dataset = dataset.prefetch(buffer_size=tf.data.AUTOTUNE)\n",
    "    return dataset\n",
    "\n",
    "nih_cxr_ds = load_tfrecord_dataset(\"/kaggle/input/radimagenet-and-nih-cxr-dataset-tfrecord/nih_cxr_images.tfrecords\")"
   ]
  },
  {
   "cell_type": "markdown",
   "id": "924d5acc",
   "metadata": {
    "papermill": {
     "duration": 0.006583,
     "end_time": "2024-06-18T07:02:55.023166",
     "exception": false,
     "start_time": "2024-06-18T07:02:55.016583",
     "status": "completed"
    },
    "tags": []
   },
   "source": [
    "# Merging 2 datasets"
   ]
  },
  {
   "cell_type": "code",
   "execution_count": 5,
   "id": "503acbc3",
   "metadata": {
    "_kg_hide-input": true,
    "execution": {
     "iopub.execute_input": "2024-06-18T07:02:55.039410Z",
     "iopub.status.busy": "2024-06-18T07:02:55.039071Z",
     "iopub.status.idle": "2024-06-18T07:03:42.550757Z",
     "shell.execute_reply": "2024-06-18T07:03:42.549855Z"
    },
    "papermill": {
     "duration": 47.523231,
     "end_time": "2024-06-18T07:03:42.553368",
     "exception": false,
     "start_time": "2024-06-18T07:02:55.030137",
     "status": "completed"
    },
    "tags": []
   },
   "outputs": [],
   "source": [
    "train_ds = tf.data.Dataset.sample_from_datasets([train_radimagenet_ds.unbatch(), nih_cxr_ds.unbatch()], weights = [0.75, 0.25]).batch(batch_size).repeat().prefetch(tf.data.AUTOTUNE)\n",
    "val_ds_ = tf.data.Dataset.sample_from_datasets([train_radimagenet_ds.unbatch(), nih_cxr_ds.unbatch()], weights = [0.75, 0.25]).batch(32).prefetch(tf.data.AUTOTUNE)\n",
    "# train data curation\n",
    "for images, labels in val_ds_.take(1):\n",
    "    sample_img = images\n",
    "    labels = labels\n",
    "del val_ds_"
   ]
  },
  {
   "cell_type": "markdown",
   "id": "e69d68f4",
   "metadata": {
    "papermill": {
     "duration": 0.006655,
     "end_time": "2024-06-18T07:03:42.567199",
     "exception": false,
     "start_time": "2024-06-18T07:03:42.560544",
     "status": "completed"
    },
    "tags": []
   },
   "source": [
    "# Convert supervised dataset into SSL dataset"
   ]
  },
  {
   "cell_type": "code",
   "execution_count": 6,
   "id": "0605fcb7",
   "metadata": {
    "execution": {
     "iopub.execute_input": "2024-06-18T07:03:42.582011Z",
     "iopub.status.busy": "2024-06-18T07:03:42.581677Z",
     "iopub.status.idle": "2024-06-18T07:03:47.278836Z",
     "shell.execute_reply": "2024-06-18T07:03:47.277985Z"
    },
    "papermill": {
     "duration": 4.707346,
     "end_time": "2024-06-18T07:03:47.281286",
     "exception": false,
     "start_time": "2024-06-18T07:03:42.573940",
     "status": "completed"
    },
    "tags": []
   },
   "outputs": [],
   "source": [
    "multiview_fn = get_map_fn(res = res, input_type = \"supervised\", output_type = \"ssl\",\n",
    "                         n_view = n_multicrop)\n",
    "two_view_fn = get_map_fn(res = res, input_type = \"supervised\", output_type = \"ssl\",\n",
    "                         n_view = 2)\n",
    "train_ds_multiview = train_ds.unbatch().map(multiview_fn, num_parallel_calls=tf.data.AUTOTUNE).batch(batch_size).prefetch(tf.data.AUTOTUNE)\n",
    "val_ds_multiview = val_ds.unbatch().map(multiview_fn, num_parallel_calls=tf.data.AUTOTUNE).batch(batch_size).prefetch(tf.data.AUTOTUNE)"
   ]
  },
  {
   "cell_type": "code",
   "execution_count": 7,
   "id": "3c433691",
   "metadata": {
    "execution": {
     "iopub.execute_input": "2024-06-18T07:03:47.297267Z",
     "iopub.status.busy": "2024-06-18T07:03:47.296567Z",
     "iopub.status.idle": "2024-06-18T07:03:51.213704Z",
     "shell.execute_reply": "2024-06-18T07:03:51.212675Z"
    },
    "papermill": {
     "duration": 3.927534,
     "end_time": "2024-06-18T07:03:51.216163",
     "exception": false,
     "start_time": "2024-06-18T07:03:47.288629",
     "status": "completed"
    },
    "tags": []
   },
   "outputs": [],
   "source": [
    "for test_set in val_ds_multiview.take(1):\n",
    "    test_set = test_set"
   ]
  },
  {
   "cell_type": "markdown",
   "id": "50dafa88",
   "metadata": {
    "papermill": {
     "duration": 0.006791,
     "end_time": "2024-06-18T07:03:51.230248",
     "exception": false,
     "start_time": "2024-06-18T07:03:51.223457",
     "status": "completed"
    },
    "tags": []
   },
   "source": [
    "----------\n",
    "# Experiment - helper functions"
   ]
  },
  {
   "cell_type": "code",
   "execution_count": 8,
   "id": "1f304f46",
   "metadata": {
    "execution": {
     "iopub.execute_input": "2024-06-18T07:03:51.245630Z",
     "iopub.status.busy": "2024-06-18T07:03:51.245272Z",
     "iopub.status.idle": "2024-06-18T07:03:54.018817Z",
     "shell.execute_reply": "2024-06-18T07:03:54.017903Z"
    },
    "papermill": {
     "duration": 2.784037,
     "end_time": "2024-06-18T07:03:54.021145",
     "exception": false,
     "start_time": "2024-06-18T07:03:51.237108",
     "status": "completed"
    },
    "tags": []
   },
   "outputs": [
    {
     "name": "stdout",
     "output_type": "stream",
     "text": [
      "Total train cases : 1303237, validation cases : 163796\n"
     ]
    }
   ],
   "source": [
    "df_train_rad = pd.read_csv(\"/kaggle/input/radimagenet-and-nih-cxr-dataset-tfrecord/RadImgNet_train.csv\")\n",
    "df_train_nih = pd.read_csv(\"/kaggle/input/radimagenet-and-nih-cxr-dataset-tfrecord/nih_trainval_split.csv\"\n",
    "                          )\n",
    "df_val_rad = pd.read_csv(\"/kaggle/input/radimagenet-and-nih-cxr-dataset-tfrecord/RadImgNet_test.csv\")\n",
    "df_val_nih = pd.read_csv(\"/kaggle/input/radimagenet-and-nih-cxr-dataset-tfrecord/nih_test_split.csv\")\n",
    "\n",
    "\n",
    "train_cases = len(df_train_rad) + len(df_train_nih) + len(df_val_nih)\n",
    "val_cases = len(df_val_rad)\n",
    "\n",
    "train_steps = train_cases//batch_size\n",
    "val_steps = val_cases//batch_size\n",
    "print(f\"Total train cases : {train_cases}, validation cases : {val_cases}\")"
   ]
  },
  {
   "cell_type": "code",
   "execution_count": 9,
   "id": "528f4cec",
   "metadata": {
    "execution": {
     "iopub.execute_input": "2024-06-18T07:03:54.036800Z",
     "iopub.status.busy": "2024-06-18T07:03:54.036500Z",
     "iopub.status.idle": "2024-06-18T07:03:54.060804Z",
     "shell.execute_reply": "2024-06-18T07:03:54.059899Z"
    },
    "papermill": {
     "duration": 0.034495,
     "end_time": "2024-06-18T07:03:54.062726",
     "exception": false,
     "start_time": "2024-06-18T07:03:54.028231",
     "status": "completed"
    },
    "tags": []
   },
   "outputs": [],
   "source": [
    "class ModelSaveCallback(keras.callbacks.Callback):\n",
    "    def __init__(self, exp_name, **kwargs):\n",
    "        super().__init__(**kwargs)\n",
    "        self.exp_name = exp_name\n",
    "    def on_epoch_end(self, epoch, logs=None):\n",
    "        save_dir = \"/kaggle/working/\" ; target_dir = '/kaggle/working/model_save'\n",
    "        os.makedirs(target_dir, exist_ok = True)\n",
    "        if (epoch % 1 == 0):\n",
    "            try:\n",
    "                print(\"\\nModel Saving to local notebook...\")\n",
    "                file_name = f\"{self.exp_name}_{self.model.name}_keras_v3_Epoch{epoch}.keras\"\n",
    "                filepath = os.path.join(target_dir, file_name)\n",
    "                saved_dir = self.model.save(filepath, overwrite=True)\n",
    "                if (epoch+1) % 5 == 0:\n",
    "                    print(\"\\nModel Uploading to NAS...\")\n",
    "                    upload_file(file_name, filepath)\n",
    "                    print(\"\\nModel Saved to Local NAS\")\n",
    "            except Exception as e: \n",
    "                print('Model Saving Error:\\n', e)\n",
    "    def on_train_batch_end(self, batch, logs=None):\n",
    "        save_dir = \"/kaggle/working/\" ; target_dir = '/kaggle/working/model_save'\n",
    "        os.makedirs(target_dir, exist_ok = True)\n",
    "        if (batch % 50000 == 0) and (batch != 0): \n",
    "            try:\n",
    "                print(\"\\nModel Saving to local notebook...\")\n",
    "                file_name = f\"{self.exp_name}_{self.model.name}_keras_v3_Batch{batch}.keras\"\n",
    "                filepath = os.path.join(target_dir, file_name)\n",
    "                saved_dir = self.model.save(filepath, overwrite=True)\n",
    "                if (batch % 10000 == 0):\n",
    "                    print(\"\\nModel Uploading to NAS...\")\n",
    "                    upload_file(file_name, filepath)\n",
    "                    print(\"\\nModel Saved to Local NAS\")\n",
    "            except Exception as e: \n",
    "                print('Model Saving Error:\\n', e)\n",
    "                \n",
    "                \n",
    "class TrainingViz(keras.callbacks.Callback):\n",
    "    def __init__(self, run):\n",
    "        super().__init__()\n",
    "        self.run = run\n",
    "    def on_epoch_end(self, epoch, logs=None):\n",
    "        try:\n",
    "            configs = self.model.get_config() ; method = configs[\"SSL_method\"]\n",
    "            if method in [\"CLIP\" , \"SigLIP\", \"SPARC\"]:\n",
    "                feature_extractor = self.model\n",
    "            else:\n",
    "                try:\n",
    "                    feature_extractor = self.model.feature_extractor\n",
    "                except:\n",
    "                    feature_extractor = self.model.get_full_model(res = res)\n",
    "            viz_weights = ssl_module.att_visualize(feature_extractor, sample_img, res,\n",
    "                                                  thresholding = True)\n",
    "            viz_weights = np.array(viz_weights) #batch, heads, res, res, 3\n",
    "            heads = viz_weights.shape[1]\n",
    "            origin = [\"Original Image\"]\n",
    "            col = [f\"Head{idx + 1}\" for idx in range(heads)]\n",
    "            col = origin + col\n",
    "\n",
    "            visualize_data = []\n",
    "            for idx, weights in enumerate(viz_weights):\n",
    "                origin_img = [wandb.Image(sample_img[idx])]\n",
    "                tmp = [wandb.Image(weights[idx]) for idx in range(heads)]\n",
    "                tmp = origin_img + tmp\n",
    "                visualize_data.append(tmp)\n",
    "                del tmp, origin_img\n",
    "            tbl = wandb.Table(columns = col, data = visualize_data)\n",
    "            wandb.log({f\"Epoch{epoch+1}_{method}_result\": tbl})\n",
    "            del feature_extractor, tbl\n",
    "            tf.keras.backend.clear_session()\n",
    "        except Exception as e: \n",
    "                print('Model Saving Error:\\n', e)\n",
    "        \n",
    "    def on_train_batch_end(self, batch, logs=None):\n",
    "        if (batch % (10000) == 0) : \n",
    "            try:\n",
    "                configs = self.model.get_config() ; method = configs[\"SSL_method\"]\n",
    "                if method in [\"CLIP\" , \"SigLIP\", \"SPARC\"]:\n",
    "                    feature_extractor = self.model\n",
    "                else:\n",
    "                    try:\n",
    "                        feature_extractor = self.model.feature_extractor\n",
    "                    except:\n",
    "                        feature_extractor = self.model.get_full_model(res = res)\n",
    "                viz_weights = ssl_module.att_visualize(feature_extractor, sample_img, res,\n",
    "                                                      thresholding = True)\n",
    "                viz_weights = np.array(viz_weights) #batch, heads, res, res, 3\n",
    "                heads = viz_weights.shape[1]\n",
    "                origin = [\"Original Image\"]\n",
    "                col = [f\"Head{idx + 1}\" for idx in range(heads)]\n",
    "                col = origin + col\n",
    "                visualize_data = []\n",
    "                for idx, weights in enumerate(viz_weights):\n",
    "                    origin_img = [wandb.Image(sample_img[idx])]\n",
    "                    tmp = [wandb.Image(weights[idx]) for idx in range(heads)]\n",
    "                    tmp = origin_img + tmp\n",
    "                    visualize_data.append(tmp)\n",
    "                    del tmp, origin_img\n",
    "                tbl = wandb.Table(columns = col, data = visualize_data)\n",
    "                if batch == 0:\n",
    "                    wandb.log({f\"ZeroBatch_{method}_result\": tbl})\n",
    "                else:\n",
    "                    wandb.log({f\"MidEpoch_{method}_result\": tbl})\n",
    "                del feature_extractor, tbl\n",
    "                tf.keras.backend.clear_session()\n",
    "            except Exception as e:\n",
    "                print(\"Error code in callback : \", e)\n",
    "           \n",
    "        else:\n",
    "            pass"
   ]
  },
  {
   "cell_type": "code",
   "execution_count": 10,
   "id": "1ed80947",
   "metadata": {
    "execution": {
     "iopub.execute_input": "2024-06-18T07:03:54.078190Z",
     "iopub.status.busy": "2024-06-18T07:03:54.077809Z",
     "iopub.status.idle": "2024-06-18T07:03:54.090134Z",
     "shell.execute_reply": "2024-06-18T07:03:54.089245Z"
    },
    "papermill": {
     "duration": 0.022158,
     "end_time": "2024-06-18T07:03:54.092030",
     "exception": false,
     "start_time": "2024-06-18T07:03:54.069872",
     "status": "completed"
    },
    "tags": []
   },
   "outputs": [],
   "source": [
    "def run_exp(model, train_ds = train_ds, val_ds = val_ds, epochs = 10, note= None, exp_name = None):\n",
    "    try:\n",
    "        wandb.finish()\n",
    "    except:\n",
    "        pass\n",
    "    \n",
    "    if True :\n",
    "        wandb_config()\n",
    "        configs = model.get_config()\n",
    "        method = configs[\"SSL_method\"]\n",
    "        try:\n",
    "            feature_extractor = model.feature_extractor\n",
    "        except:\n",
    "            feature_extractor = model.get_full_model(res = res)\n",
    "        \n",
    "        if method in ['CLIP', \"SigLIP\", \"SPARC\"]:\n",
    "            _ = model((example_images[:2], example_reports[:2]))\n",
    "        else:\n",
    "            _ = model(test_set)\n",
    "        feature_extractor_flops = get_flops(feature_extractor, [tf.random.normal([1,res,res,1])])\n",
    "        del feature_extractor\n",
    "        \n",
    "        env_config = {\"batch_size\" : batch_size, \"original resolution\" : res, \"local view resolution\" : small_res,\n",
    "                     \"Training steps\" : train_steps,\n",
    "                     \"Val steps\" : val_steps,\n",
    "                     \"train cases\" : train_cases,\n",
    "                     \"val cases\" : val_cases,\n",
    "                     \"embed_dims\" : embed_dims,\n",
    "                     \"Image resolution\" : res,\n",
    "                     \"(Image) Encoder Flops(G)\" : feature_extractor_flops,\n",
    "                     \"dtype\" : keras.mixed_precision.dtype_policy(),\n",
    "                      \"Optimizer configs\" : model.optimizer.get_config(),\n",
    "                      \"Multicrop N\" : n_multicrop,\n",
    "                     }\n",
    "        configs.update(env_config)\n",
    "        \n",
    "        wd = \"/kaggle/working/\"\n",
    "        file_name = os.path.join(wd, f\"{method}_radimgnet_mini.keras\")\n",
    "        print(configs, \"\\n\\n\")\n",
    "        model.summary()\n",
    "        run = wandb.init(project=\"RadImageNet\", \n",
    "                         entity=\"gongbungkim\", config = configs, notes = note,\n",
    "                        name = exp_name)\n",
    "\n",
    "        pass_error = keras.callbacks.TerminateOnNaN()\n",
    "        wb_callback = wandb.keras.WandbMetricsLogger(log_freq = 100)\n",
    "        \n",
    "        callbacks = [pass_error, wb_callback, ModelSaveCallback(f\"RI_SSL_{method}\"), \n",
    "                     TrainingViz(run)]\n",
    "        if val_ds is not None:\n",
    "            hist = model.fit(train_ds, \n",
    "                             steps_per_epoch = train_steps, \n",
    "                             epochs = epochs, \n",
    "                             validation_data = val_ds, \n",
    "                             validation_steps = val_steps, \n",
    "                             verbose = 1,\n",
    "                             callbacks = callbacks)\n",
    "        else:\n",
    "            hist = model.fit(train_ds, \n",
    "                         steps_per_epoch = train_steps, \n",
    "                         epochs = epochs, \n",
    "                         verbose = 1,\n",
    "                         callbacks = callbacks)\n",
    "    return hist"
   ]
  },
  {
   "cell_type": "code",
   "execution_count": 11,
   "id": "ca7a345a",
   "metadata": {
    "execution": {
     "iopub.execute_input": "2024-06-18T07:03:54.107360Z",
     "iopub.status.busy": "2024-06-18T07:03:54.106702Z",
     "iopub.status.idle": "2024-06-18T07:03:54.112169Z",
     "shell.execute_reply": "2024-06-18T07:03:54.111241Z"
    },
    "papermill": {
     "duration": 0.015147,
     "end_time": "2024-06-18T07:03:54.114109",
     "exception": false,
     "start_time": "2024-06-18T07:03:54.098962",
     "status": "completed"
    },
    "tags": []
   },
   "outputs": [],
   "source": [
    "cosine_decay = keras.optimizers.schedules.CosineDecay(\n",
    "    initial_learning_rate = 1e-6,\n",
    "    decay_steps = int(0.5*train_steps),\n",
    "    alpha=1e-5,\n",
    "    name='CosineDecay',\n",
    "    warmup_target=2e-4,\n",
    "    warmup_steps=train_steps - int(0.3*train_steps)\n",
    ")\n",
    "\n",
    "lr_schedule = keras.optimizers.schedules.ExponentialDecay(\n",
    "    initial_learning_rate = 2e-4,\n",
    "    decay_steps=20000,\n",
    "    decay_rate=0.75,\n",
    "    staircase=True)"
   ]
  },
  {
   "cell_type": "code",
   "execution_count": 12,
   "id": "0d903c1e",
   "metadata": {
    "execution": {
     "iopub.execute_input": "2024-06-18T07:03:54.129340Z",
     "iopub.status.busy": "2024-06-18T07:03:54.128881Z",
     "iopub.status.idle": "2024-06-18T07:03:54.136174Z",
     "shell.execute_reply": "2024-06-18T07:03:54.135325Z"
    },
    "papermill": {
     "duration": 0.016987,
     "end_time": "2024-06-18T07:03:54.138078",
     "exception": false,
     "start_time": "2024-06-18T07:03:54.121091",
     "status": "completed"
    },
    "tags": []
   },
   "outputs": [],
   "source": [
    "def ssl_train(module, feature_extractor, learning_rate = lr_schedule,\n",
    "              embed_dims = embed_dims, multiview = True, gradient_accumulation = None, use_ema = False,\n",
    "             note = \"\", name = \"\",\n",
    "             apply_barlow = False, apply_simclr = False):\n",
    "    try:\n",
    "        ssl_trainer = module(feature_extractor, embed_dims = 2048, multiview = multiview,\n",
    "                            apply_barlow = apply_barlow, apply_simclr = apply_simclr)\n",
    "    except Exception as e:\n",
    "        print(\"Error : \",e)\n",
    "        ssl_trainer = module(feature_extractor, embed_dims = 2048, multiview = multiview)\n",
    "    ssl_trainer.compile(optimizer = keras.optimizers.Adam(learning_rate = learning_rate,\n",
    "                                                         clipnorm = 0.5,\n",
    "                                                         #amsgrad = True,\n",
    "                                                           gradient_accumulation_steps=gradient_accumulation,\n",
    "                                                         use_ema = use_ema),\n",
    "                        jit_compile = False\n",
    "                      )\n",
    "    \n",
    "    run_exp(ssl_trainer, train_ds_multiview, None, epochs = 100,\n",
    "       note = \"Without validation d/t lack of resources\" + note, exp_name = name)"
   ]
  },
  {
   "cell_type": "code",
   "execution_count": 13,
   "id": "30365a0b",
   "metadata": {
    "execution": {
     "iopub.execute_input": "2024-06-18T07:03:54.153482Z",
     "iopub.status.busy": "2024-06-18T07:03:54.152980Z",
     "iopub.status.idle": "2024-06-18T07:03:54.157286Z",
     "shell.execute_reply": "2024-06-18T07:03:54.156439Z"
    },
    "papermill": {
     "duration": 0.014161,
     "end_time": "2024-06-18T07:03:54.159209",
     "exception": false,
     "start_time": "2024-06-18T07:03:54.145048",
     "status": "completed"
    },
    "tags": []
   },
   "outputs": [],
   "source": [
    "ibot = 0\n",
    "dino = 0\n",
    "\n",
    "depth = 8\n",
    "heads = 8\n",
    "att_dims = heads * 64\n",
    "patch_size = 24 #16, 24, 32"
   ]
  },
  {
   "cell_type": "code",
   "execution_count": 14,
   "id": "dbe15b36",
   "metadata": {
    "_kg_hide-input": true,
    "execution": {
     "iopub.execute_input": "2024-06-18T07:03:54.174003Z",
     "iopub.status.busy": "2024-06-18T07:03:54.173720Z",
     "iopub.status.idle": "2024-06-18T07:03:54.179381Z",
     "shell.execute_reply": "2024-06-18T07:03:54.178600Z"
    },
    "papermill": {
     "duration": 0.015229,
     "end_time": "2024-06-18T07:03:54.181289",
     "exception": false,
     "start_time": "2024-06-18T07:03:54.166060",
     "status": "completed"
    },
    "tags": []
   },
   "outputs": [],
   "source": [
    "if ibot:\n",
    "    \n",
    "\n",
    "    ssl_trainer = ssl_module.iBOT(att_depth = depth, att_dims = att_dims, att_heads = heads,\n",
    "                                  embed_dims = 2048, patch_size = patch_size,\n",
    "\n",
    "                                  multiview = True, apply_simclr = False,\n",
    "                                  grayscale = True\n",
    "                                 )\n",
    "    ssl_trainer.compile(optimizer = keras.optimizers.AdamW(learning_rate = lr_schedule,\n",
    "                                                         clipnorm = 1.0, use_ema = True),\n",
    "                       jit_compile = False)\n",
    "    run_exp(ssl_trainer, train_ds_multiview, None, epochs = 100,\n",
    "           note = \"+ NEW aug, New Patching\", exp_name = \"iBOT_VanillaViT\")"
   ]
  },
  {
   "cell_type": "code",
   "execution_count": 15,
   "id": "834d1a00",
   "metadata": {
    "execution": {
     "iopub.execute_input": "2024-06-18T07:03:54.195929Z",
     "iopub.status.busy": "2024-06-18T07:03:54.195648Z",
     "iopub.status.idle": "2024-06-18T07:03:54.200948Z",
     "shell.execute_reply": "2024-06-18T07:03:54.200083Z"
    },
    "papermill": {
     "duration": 0.014739,
     "end_time": "2024-06-18T07:03:54.202791",
     "exception": false,
     "start_time": "2024-06-18T07:03:54.188052",
     "status": "completed"
    },
    "tags": []
   },
   "outputs": [],
   "source": [
    "if dino:\n",
    "    model_ = 'attention'\n",
    "    vanilla_model = ssl_module.get_metaformer(model_, res = res, embed_dims = 512, \n",
    "                                              att_depth = depth, att_heads = heads,att_dims = att_dims,\n",
    "                                              grayscale = True, patch_size = patch_size, register_tokens = 4)\n",
    "    ssl_train(ssl_module.DINO, vanilla_model, \n",
    "             note = \"+ NEW aug, New Patching\",\n",
    "             name = f\"DINO_{model_}\",\n",
    "             apply_barlow = 0, apply_simclr = 0,\n",
    "             learning_rate = lr_schedule, use_ema = True)"
   ]
  }
 ],
 "metadata": {
  "kaggle": {
   "accelerator": "gpu",
   "dataSources": [
    {
     "datasetId": 5051531,
     "sourceId": 8471595,
     "sourceType": "datasetVersion"
    },
    {
     "datasetId": 5112865,
     "sourceId": 8556597,
     "sourceType": "datasetVersion"
    },
    {
     "sourceId": 169421886,
     "sourceType": "kernelVersion"
    },
    {
     "sourceId": 183389830,
     "sourceType": "kernelVersion"
    }
   ],
   "isGpuEnabled": true,
   "isInternetEnabled": true,
   "language": "python",
   "sourceType": "notebook"
  },
  "kernelspec": {
   "display_name": "Python 3",
   "language": "python",
   "name": "python3"
  },
  "language_info": {
   "codemirror_mode": {
    "name": "ipython",
    "version": 3
   },
   "file_extension": ".py",
   "mimetype": "text/x-python",
   "name": "python",
   "nbconvert_exporter": "python",
   "pygments_lexer": "ipython3",
   "version": "3.10.13"
  },
  "papermill": {
   "default_parameters": {},
   "duration": 100.203394,
   "end_time": "2024-06-18T07:03:57.849913",
   "environment_variables": {},
   "exception": null,
   "input_path": "__notebook__.ipynb",
   "output_path": "__notebook__.ipynb",
   "parameters": {},
   "start_time": "2024-06-18T07:02:17.646519",
   "version": "2.5.0"
  }
 },
 "nbformat": 4,
 "nbformat_minor": 5
}
