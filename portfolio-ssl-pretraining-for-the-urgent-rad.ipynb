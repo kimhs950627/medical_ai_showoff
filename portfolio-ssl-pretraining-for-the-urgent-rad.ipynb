{
 "cells": [
  {
   "cell_type": "code",
   "execution_count": 1,
   "id": "bd04abc8",
   "metadata": {
    "_cell_guid": "b1076dfc-b9ad-4769-8c92-a6c4dae69d19",
    "_uuid": "8f2839f25d086af736a60e9eeb907d3b93b6e0e5",
    "execution": {
     "iopub.execute_input": "2024-07-08T09:30:31.722284Z",
     "iopub.status.busy": "2024-07-08T09:30:31.721687Z",
     "iopub.status.idle": "2024-07-08T09:30:55.983454Z",
     "shell.execute_reply": "2024-07-08T09:30:55.982474Z"
    },
    "jupyter": {
     "source_hidden": true
    },
    "papermill": {
     "duration": 24.272657,
     "end_time": "2024-07-08T09:30:55.985673",
     "exception": false,
     "start_time": "2024-07-08T09:30:31.713016",
     "status": "completed"
    },
    "tags": []
   },
   "outputs": [
    {
     "name": "stderr",
     "output_type": "stream",
     "text": [
      "2024-07-08 09:30:35.482719: E external/local_xla/xla/stream_executor/cuda/cuda_dnn.cc:9261] Unable to register cuDNN factory: Attempting to register factory for plugin cuDNN when one has already been registered\n",
      "2024-07-08 09:30:35.482846: E external/local_xla/xla/stream_executor/cuda/cuda_fft.cc:607] Unable to register cuFFT factory: Attempting to register factory for plugin cuFFT when one has already been registered\n",
      "2024-07-08 09:30:35.619884: E external/local_xla/xla/stream_executor/cuda/cuda_blas.cc:1515] Unable to register cuBLAS factory: Attempting to register factory for plugin cuBLAS when one has already been registered\n"
     ]
    },
    {
     "name": "stdout",
     "output_type": "stream",
     "text": [
      "Tensorflow version : 2.15.0\n",
      "Keras version : 3.3.3\n",
      "Running on 1 replicas\n"
     ]
    }
   ],
   "source": [
    "import pandas as pd\n",
    "import numpy as np\n",
    "import os, sys\n",
    "import random\n",
    "import pydicom\n",
    "\n",
    "from sklearn.manifold import TSNE\n",
    "import re\n",
    "import matplotlib.pyplot as plt\n",
    "import matplotlib.cm as cm\n",
    "seed = 2024\n",
    "\n",
    "import warnings\n",
    "warnings.filterwarnings(\"ignore\")\n",
    "\n",
    "# ML tools \n",
    "sys.path.append(\"/kaggle/input/kimm-keras-image-model-repository\"\n",
    "               )\n",
    "\n",
    "import tensorflow as tf\n",
    "import keras# ; keras.config.set_dtype_policy(\"mixed_float16\")\n",
    "import kimm\n",
    "import keras_cv\n",
    "import keras_nlp\n",
    "\n",
    "import cv2\n",
    "from skimage.io import imread\n",
    "keras.utils.set_random_seed(seed)\n",
    "import tensorflow_io as tfio\n",
    "from kaggle_datasets import KaggleDatasets\n",
    "import tensorflow_datasets as tfds\n",
    "import tensorflow_probability as tfp\n",
    "import tensorflow_decision_forests as tfdf\n",
    "\n",
    "print(f\"Tensorflow version : {tf.__version__}\")\n",
    "try:\n",
    "    print(f\"Keras version : {keras.__version__}\")\n",
    "except:\n",
    "    pass\n",
    "\n",
    "from keras import Input, Model, ops\n",
    "from keras.models import load_model\n",
    "\n",
    "from keras.layers import Conv2D, DepthwiseConv2D, Dense, Activation, BatchNormalization, LayerNormalization, MultiHeadAttention, Embedding, Subtract, Add, Multiply, GlobalAveragePooling2D, GlobalAveragePooling1D, LayerNormalization\n",
    "from keras.utils import load_img, img_to_array\n",
    "from keras.applications import *\n",
    "os.environ['TF_CPP_MIN_LOG_LEVEL'] = '3'\n",
    "from sklearn.model_selection import train_test_split\n",
    "from keras.callbacks import ReduceLROnPlateau, ModelCheckpoint, EarlyStopping\n",
    "from tqdm.notebook import tqdm\n",
    "import wandb\n",
    "#from wandb.keras import WandbCallback, WandbModelCheckpoint, WandbMetricsLogger\n",
    "def wandb_config():\n",
    "    from kaggle_secrets import UserSecretsClient\n",
    "    user_secrets = UserSecretsClient()\n",
    "    try:\n",
    "        secret_value_0 = user_secrets.get_secret(\"__gcloud_sdk_auth__\")\n",
    "        secret_value_1 = user_secrets.get_secret(\"huggingface_key\")\n",
    "        secret_value_2 = user_secrets.get_secret(\"wandb_key\")\n",
    "        !wandb login $secret_value_2\n",
    "    except:\n",
    "        secret_value_0 = user_secrets.get_secret(\"huggingface_key\")\n",
    "        secret_value_1 = user_secrets.get_secret(\"wandb_key\")\n",
    "        !wandb login $secret_value_1\n",
    "    \n",
    "def auto_select_accelerator():\n",
    "    try:\n",
    "        tpu = tf.distribute.cluster_resolver.TPUClusterResolver()\n",
    "        tf.config.experimental_connect_to_cluster(tpu)\n",
    "        tf.tpu.experimental.initialize_tpu_system(tpu)\n",
    "        strategy = tf.distribute.experimental.TPUStrategy(tpu)\n",
    "        print(\"Running on TPU:\", tpu.master())\n",
    "    except ValueError:\n",
    "        tpu = False\n",
    "        strategy = tf.distribute.MirroredStrategy() # for GPU or multi-GPU machines\n",
    "    print(f\"Running on {strategy.num_replicas_in_sync} replicas\")\n",
    "    \n",
    "    return tpu, strategy\n",
    "\n",
    "tpu, strategy = auto_select_accelerator()\n"
   ]
  },
  {
   "cell_type": "code",
   "execution_count": 2,
   "id": "8a92701a",
   "metadata": {
    "_kg_hide-output": true,
    "execution": {
     "iopub.execute_input": "2024-07-08T09:30:56.002542Z",
     "iopub.status.busy": "2024-07-08T09:30:56.002258Z",
     "iopub.status.idle": "2024-07-08T09:30:56.141885Z",
     "shell.execute_reply": "2024-07-08T09:30:56.140982Z"
    },
    "papermill": {
     "duration": 0.149634,
     "end_time": "2024-07-08T09:30:56.144048",
     "exception": false,
     "start_time": "2024-07-08T09:30:55.994414",
     "status": "completed"
    },
    "tags": []
   },
   "outputs": [
    {
     "name": "stdout",
     "output_type": "stream",
     "text": [
      "Requirements loaded, keras : v3.3.3, Tensorflow : v2.15.0\n",
      "RandAug Component in this SSL module :  ['random_contrast', 'random_brightness', 'random_shear', 'random_shear_1', 'random_translation', 'random_translation_1', 'KerasCVGridMasking']\n"
     ]
    },
    {
     "data": {
      "text/plain": [
       "{'models_from_kimm': ['ConvMixer1024D20',\n",
       "  'ConvMixer1536D20',\n",
       "  'ConvMixer736D32',\n",
       "  'ConvNeXtAtto',\n",
       "  'ConvNeXtBase',\n",
       "  'ConvNeXtFemto',\n",
       "  'ConvNeXtLarge',\n",
       "  'ConvNeXtNano',\n",
       "  'ConvNeXtPico',\n",
       "  'ConvNeXtSmall',\n",
       "  'ConvNeXtTiny',\n",
       "  'ConvNeXtXLarge',\n",
       "  'DenseNet121',\n",
       "  'DenseNet161',\n",
       "  'DenseNet169',\n",
       "  'DenseNet201',\n",
       "  'EfficientNetB0',\n",
       "  'EfficientNetB1',\n",
       "  'EfficientNetB2',\n",
       "  'EfficientNetB3',\n",
       "  'EfficientNetB4',\n",
       "  'EfficientNetB5',\n",
       "  'EfficientNetB6',\n",
       "  'EfficientNetB7',\n",
       "  'EfficientNetLiteB0',\n",
       "  'EfficientNetLiteB1',\n",
       "  'EfficientNetLiteB2',\n",
       "  'EfficientNetLiteB3',\n",
       "  'EfficientNetLiteB4',\n",
       "  'EfficientNetV2B0',\n",
       "  'EfficientNetV2B1',\n",
       "  'EfficientNetV2B2',\n",
       "  'EfficientNetV2B3',\n",
       "  'EfficientNetV2L',\n",
       "  'EfficientNetV2M',\n",
       "  'EfficientNetV2S',\n",
       "  'EfficientNetV2XL',\n",
       "  'GhostNet050',\n",
       "  'GhostNet100',\n",
       "  'GhostNet100V2',\n",
       "  'GhostNet130',\n",
       "  'GhostNet130V2',\n",
       "  'GhostNet160V2',\n",
       "  'HGNetBase',\n",
       "  'HGNetSmall',\n",
       "  'HGNetTiny',\n",
       "  'HGNetV2B0',\n",
       "  'HGNetV2B1',\n",
       "  'HGNetV2B2',\n",
       "  'HGNetV2B3',\n",
       "  'HGNetV2B4',\n",
       "  'HGNetV2B5',\n",
       "  'HGNetV2B6',\n",
       "  'InceptionNeXtBase',\n",
       "  'InceptionNeXtSmall',\n",
       "  'InceptionNeXtTiny',\n",
       "  'InceptionV3',\n",
       "  'LCNet035',\n",
       "  'LCNet050',\n",
       "  'LCNet075',\n",
       "  'LCNet100',\n",
       "  'LCNet150',\n",
       "  'MobileNetV2W050',\n",
       "  'MobileNetV2W100',\n",
       "  'MobileNetV2W110',\n",
       "  'MobileNetV2W120',\n",
       "  'MobileNetV2W140',\n",
       "  'MobileNetV3W050Small',\n",
       "  'MobileNetV3W075Small',\n",
       "  'MobileNetV3W100Large',\n",
       "  'MobileNetV3W100LargeMinimal',\n",
       "  'MobileNetV3W100Small',\n",
       "  'MobileNetV3W100SmallMinimal',\n",
       "  'MobileOneS0',\n",
       "  'MobileOneS1',\n",
       "  'MobileOneS2',\n",
       "  'MobileOneS3',\n",
       "  'MobileViTS',\n",
       "  'MobileViTV2W050',\n",
       "  'MobileViTV2W075',\n",
       "  'MobileViTV2W100',\n",
       "  'MobileViTV2W125',\n",
       "  'MobileViTV2W150',\n",
       "  'MobileViTV2W175',\n",
       "  'MobileViTV2W200',\n",
       "  'MobileViTXS',\n",
       "  'MobileViTXXS',\n",
       "  'RegNetX002',\n",
       "  'RegNetX004',\n",
       "  'RegNetX006',\n",
       "  'RegNetX008',\n",
       "  'RegNetX016',\n",
       "  'RegNetX032',\n",
       "  'RegNetX040',\n",
       "  'RegNetX064',\n",
       "  'RegNetX080',\n",
       "  'RegNetX120',\n",
       "  'RegNetX160',\n",
       "  'RegNetX320',\n",
       "  'RegNetY002',\n",
       "  'RegNetY004',\n",
       "  'RegNetY006',\n",
       "  'RegNetY008',\n",
       "  'RegNetY016',\n",
       "  'RegNetY032',\n",
       "  'RegNetY040',\n",
       "  'RegNetY064',\n",
       "  'RegNetY080',\n",
       "  'RegNetY120',\n",
       "  'RegNetY160',\n",
       "  'RegNetY320',\n",
       "  'RepVGGA0',\n",
       "  'RepVGGA1',\n",
       "  'RepVGGA2',\n",
       "  'RepVGGB0',\n",
       "  'RepVGGB1',\n",
       "  'RepVGGB2',\n",
       "  'RepVGGB3',\n",
       "  'ResNet101',\n",
       "  'ResNet152',\n",
       "  'ResNet18',\n",
       "  'ResNet34',\n",
       "  'ResNet50',\n",
       "  'TinyNetA',\n",
       "  'TinyNetB',\n",
       "  'TinyNetC',\n",
       "  'TinyNetD',\n",
       "  'TinyNetE',\n",
       "  'VGG11',\n",
       "  'VGG13',\n",
       "  'VGG16',\n",
       "  'VGG19',\n",
       "  'VisionTransformerBase16',\n",
       "  'VisionTransformerBase32',\n",
       "  'VisionTransformerLarge16',\n",
       "  'VisionTransformerLarge32',\n",
       "  'VisionTransformerSmall16',\n",
       "  'VisionTransformerSmall32',\n",
       "  'VisionTransformerTiny16',\n",
       "  'VisionTransformerTiny32',\n",
       "  'Xception'],\n",
       " 'models_from_keras': ['effnet',\n",
       "  'effnet_small',\n",
       "  'effnet_base',\n",
       "  'convnext',\n",
       "  'convnext_small',\n",
       "  'convnext_base',\n",
       "  'mlpmixer_patch_depth_dims',\n",
       "  'convmixer_patch_depth_dims']}"
      ]
     },
     "execution_count": 2,
     "metadata": {},
     "output_type": "execute_result"
    }
   ],
   "source": [
    "import ssl_module\n",
    "from ssl_module import get_masking_fn, get_map_fn, get_gcvit_configs, get_flops, att_visualize, get_full_model, AttentionPooling, BarlowModel, VICRegModel, Moco, SimSiam, CLIP, SigLIP\n",
    "import nas_ftp_module\n",
    "from nas_ftp_module import upload_file, download_file\n",
    "ssl_module.available_models()"
   ]
  },
  {
   "cell_type": "markdown",
   "id": "59fb7cec",
   "metadata": {
    "papermill": {
     "duration": 0.00716,
     "end_time": "2024-07-08T09:30:56.158516",
     "exception": false,
     "start_time": "2024-07-08T09:30:56.151356",
     "status": "completed"
    },
    "tags": []
   },
   "source": [
    "# Setting hyperparameters"
   ]
  },
  {
   "cell_type": "code",
   "execution_count": 3,
   "id": "e2b7a825",
   "metadata": {
    "execution": {
     "iopub.execute_input": "2024-07-08T09:30:56.174083Z",
     "iopub.status.busy": "2024-07-08T09:30:56.173596Z",
     "iopub.status.idle": "2024-07-08T09:30:56.180242Z",
     "shell.execute_reply": "2024-07-08T09:30:56.179340Z"
    },
    "papermill": {
     "duration": 0.016669,
     "end_time": "2024-07-08T09:30:56.182296",
     "exception": false,
     "start_time": "2024-07-08T09:30:56.165627",
     "status": "completed"
    },
    "tags": []
   },
   "outputs": [
    {
     "name": "stdout",
     "output_type": "stream",
     "text": [
      "batch size 16\n"
     ]
    }
   ],
   "source": [
    "batch_size = 16\n",
    "batch_size = strategy.num_replicas_in_sync * batch_size\n",
    "print('batch size', batch_size)\n",
    "\n",
    "res = int(1.5*256)\n",
    "small_res = 64\n",
    "\n",
    "embed_dims = 1024\n",
    "n_multicrop = 2\n",
    "\n",
    "grayscale = True # False if using pretrained model, True if from scratch\n",
    "depth = 4\n",
    "heads = 8\n",
    "att_dims = heads * 32\n",
    "patch_size = 24\n",
    "\n",
    "if grayscale:\n",
    "    pretrained_encoder = None\n",
    "else:\n",
    "    #pretrained_encoder = keras.applications.EfficientNetV2B0(input_shape = [res,res,3], include_top = False)\n",
    "    pretrained_encoder = keras.applications.ConvNeXtTiny(input_shape = [res,res,3], include_top = False)"
   ]
  },
  {
   "cell_type": "markdown",
   "id": "11d54988",
   "metadata": {
    "papermill": {
     "duration": 0.006995,
     "end_time": "2024-07-08T09:30:56.196585",
     "exception": false,
     "start_time": "2024-07-08T09:30:56.189590",
     "status": "completed"
    },
    "tags": []
   },
   "source": [
    "- radimagenet tfrecord key : image, label\n",
    "- nih cxr tfrecord key : image_raw, label"
   ]
  },
  {
   "cell_type": "markdown",
   "id": "da828d4b",
   "metadata": {
    "papermill": {
     "duration": 0.006998,
     "end_time": "2024-07-08T09:30:56.210667",
     "exception": false,
     "start_time": "2024-07-08T09:30:56.203669",
     "status": "completed"
    },
    "tags": []
   },
   "source": [
    "# RadImageNet decoding"
   ]
  },
  {
   "cell_type": "code",
   "execution_count": 4,
   "id": "bef916b6",
   "metadata": {
    "_kg_hide-input": true,
    "execution": {
     "iopub.execute_input": "2024-07-08T09:30:56.226469Z",
     "iopub.status.busy": "2024-07-08T09:30:56.225924Z",
     "iopub.status.idle": "2024-07-08T09:30:58.269053Z",
     "shell.execute_reply": "2024-07-08T09:30:58.268264Z"
    },
    "papermill": {
     "duration": 2.053759,
     "end_time": "2024-07-08T09:30:58.271583",
     "exception": false,
     "start_time": "2024-07-08T09:30:56.217824",
     "status": "completed"
    },
    "tags": []
   },
   "outputs": [],
   "source": [
    "def _parse_tfrecord(res = res):\n",
    "    def parse_tfrecord(tfrecord):\n",
    "        features = {'image': tf.io.FixedLenFeature([], tf.string),\n",
    "                    'label': tf.io.FixedLenFeature([], tf.int64),\n",
    "                    }\n",
    "        x = tf.io.parse_single_example(tfrecord, features)\n",
    "        image_train = tf.image.decode_jpeg(x['image'], channels=1)\n",
    "        image_train = _transform_images(res = res)(image_train)\n",
    "        label = tf.cast(x[\"label\"], tf.int32)\n",
    "        return (image_train, label)\n",
    "    \n",
    "    return parse_tfrecord\n",
    "\n",
    "\n",
    "def _transform_images(res = res):\n",
    "    def transform_images(x_train):\n",
    "        x_train = tf.image.resize_with_pad(x_train, res, res, antialias = True)\n",
    "        x_train = tf.cast(x_train, tf.uint8)\n",
    "        return x_train\n",
    "    return transform_images\n",
    "\n",
    "def load_tfrecord_dataset(tfrecord_name, res = res, batch_size = batch_size, shuffle=True, buffer_size=10240):\n",
    "    \"\"\"load dataset from tfrecord\"\"\"\n",
    "    raw_dataset = tf.data.TFRecordDataset(tfrecord_name, compression_type = \"GZIP\")\n",
    "    raw_dataset = raw_dataset.repeat()\n",
    "    if shuffle:\n",
    "        raw_dataset = raw_dataset.shuffle(buffer_size=buffer_size)\n",
    "    dataset = raw_dataset.map(\n",
    "        _parse_tfrecord(),\n",
    "        num_parallel_calls=tf.data.AUTOTUNE\n",
    "    )\n",
    "    dataset = dataset.batch(batch_size)\n",
    "    dataset = dataset.prefetch(buffer_size=tf.data.AUTOTUNE)\n",
    "    return dataset\n",
    "\n",
    "train_radimagenet_ds = load_tfrecord_dataset(\"/kaggle/input/radimagenet-and-nih-cxr-dataset-tfrecord/RagImageNet_Train_GZIP.tfrecord\")\n",
    "val_ds = load_tfrecord_dataset(\"/kaggle/input/radimagenet-and-nih-cxr-dataset-tfrecord/RagImageNet_Test_GZIP.tfrecord\")"
   ]
  },
  {
   "cell_type": "markdown",
   "id": "25ce3a34",
   "metadata": {
    "papermill": {
     "duration": 0.007296,
     "end_time": "2024-07-08T09:30:58.286657",
     "exception": false,
     "start_time": "2024-07-08T09:30:58.279361",
     "status": "completed"
    },
    "tags": []
   },
   "source": [
    "# NIH CXR decoding"
   ]
  },
  {
   "cell_type": "code",
   "execution_count": 5,
   "id": "87650af9",
   "metadata": {
    "_kg_hide-input": true,
    "execution": {
     "iopub.execute_input": "2024-07-08T09:30:58.303669Z",
     "iopub.status.busy": "2024-07-08T09:30:58.303356Z",
     "iopub.status.idle": "2024-07-08T09:30:58.565633Z",
     "shell.execute_reply": "2024-07-08T09:30:58.564819Z"
    },
    "papermill": {
     "duration": 0.273912,
     "end_time": "2024-07-08T09:30:58.567856",
     "exception": false,
     "start_time": "2024-07-08T09:30:58.293944",
     "status": "completed"
    },
    "tags": []
   },
   "outputs": [],
   "source": [
    "def _parse_tfrecord(res = res):\n",
    "    def parse_tfrecord(tfrecord):\n",
    "        features = {'image_raw': tf.io.FixedLenFeature([], tf.string),\n",
    "                    'label': tf.io.FixedLenFeature([], tf.int64),\n",
    "                    }\n",
    "        x = tf.io.parse_single_example(tfrecord, features)\n",
    "        image_train = tf.image.decode_jpeg(x['image_raw'], channels=1)\n",
    "        image_train = _transform_images(res = res)(image_train)\n",
    "        label = tf.cast(x[\"label\"], tf.int32)\n",
    "        return (image_train, label)\n",
    "    \n",
    "    return parse_tfrecord\n",
    "\n",
    "\n",
    "def _transform_images(res = res):\n",
    "    def transform_images(x_train):\n",
    "        x_train = tf.image.resize_with_pad(x_train, res, res, antialias = True)\n",
    "        x_train = tf.cast(x_train, tf.uint8)\n",
    "        return x_train\n",
    "    return transform_images\n",
    "\n",
    "def load_tfrecord_dataset(tfrecord_name, res = res, batch_size = batch_size, shuffle=True, buffer_size=10240):\n",
    "    \"\"\"load dataset from tfrecord\"\"\"\n",
    "    raw_dataset = tf.data.TFRecordDataset(tfrecord_name)\n",
    "    raw_dataset = raw_dataset.repeat()\n",
    "    if shuffle:\n",
    "        raw_dataset = raw_dataset.shuffle(buffer_size=buffer_size)\n",
    "    dataset = raw_dataset.map(\n",
    "        _parse_tfrecord(),\n",
    "        num_parallel_calls=tf.data.AUTOTUNE\n",
    "    )\n",
    "    if batch_size:\n",
    "        dataset = dataset.batch(batch_size)\n",
    "    dataset = dataset.prefetch(buffer_size=tf.data.AUTOTUNE)\n",
    "    return dataset\n",
    "\n",
    "nih_cxr_ds = load_tfrecord_dataset(\"/kaggle/input/radimagenet-and-nih-cxr-dataset-tfrecord/nih_cxr_images.tfrecords\")"
   ]
  },
  {
   "cell_type": "markdown",
   "id": "73ee20aa",
   "metadata": {
    "papermill": {
     "duration": 0.007247,
     "end_time": "2024-07-08T09:30:58.582783",
     "exception": false,
     "start_time": "2024-07-08T09:30:58.575536",
     "status": "completed"
    },
    "tags": []
   },
   "source": [
    "# Merging 2 datasets"
   ]
  },
  {
   "cell_type": "code",
   "execution_count": 6,
   "id": "53b3586c",
   "metadata": {
    "_kg_hide-input": true,
    "execution": {
     "iopub.execute_input": "2024-07-08T09:30:58.599117Z",
     "iopub.status.busy": "2024-07-08T09:30:58.598794Z",
     "iopub.status.idle": "2024-07-08T09:31:40.996146Z",
     "shell.execute_reply": "2024-07-08T09:31:40.995130Z"
    },
    "papermill": {
     "duration": 42.408478,
     "end_time": "2024-07-08T09:31:40.998697",
     "exception": false,
     "start_time": "2024-07-08T09:30:58.590219",
     "status": "completed"
    },
    "tags": []
   },
   "outputs": [],
   "source": [
    "train_ds = tf.data.Dataset.sample_from_datasets([train_radimagenet_ds.unbatch(), nih_cxr_ds.unbatch()], weights = [0.75, 0.25]).batch(batch_size).repeat().prefetch(tf.data.AUTOTUNE)\n",
    "val_ds_ = tf.data.Dataset.sample_from_datasets([train_radimagenet_ds.unbatch(), nih_cxr_ds.unbatch()], weights = [0.75, 0.25]).batch(32).prefetch(tf.data.AUTOTUNE)\n",
    "# train data curation\n",
    "for images, labels in val_ds_.take(1):\n",
    "    sample_img = images\n",
    "    labels = labels\n",
    "del val_ds_"
   ]
  },
  {
   "cell_type": "markdown",
   "id": "08b0a770",
   "metadata": {
    "papermill": {
     "duration": 0.007726,
     "end_time": "2024-07-08T09:31:41.014576",
     "exception": false,
     "start_time": "2024-07-08T09:31:41.006850",
     "status": "completed"
    },
    "tags": []
   },
   "source": [
    "# Convert supervised dataset into SSL dataset"
   ]
  },
  {
   "cell_type": "code",
   "execution_count": 7,
   "id": "c36b016b",
   "metadata": {
    "execution": {
     "iopub.execute_input": "2024-07-08T09:31:41.031154Z",
     "iopub.status.busy": "2024-07-08T09:31:41.030792Z",
     "iopub.status.idle": "2024-07-08T09:31:44.112062Z",
     "shell.execute_reply": "2024-07-08T09:31:44.111255Z"
    },
    "papermill": {
     "duration": 3.092299,
     "end_time": "2024-07-08T09:31:44.114502",
     "exception": false,
     "start_time": "2024-07-08T09:31:41.022203",
     "status": "completed"
    },
    "tags": []
   },
   "outputs": [],
   "source": [
    "multiview_fn = get_map_fn(res = res, input_type = \"supervised\", output_type = \"ssl\",\n",
    "                         n_view = n_multicrop, grayscale = grayscale)\n",
    "\n",
    "train_ds_multiview = train_ds.unbatch().map(multiview_fn, num_parallel_calls=tf.data.AUTOTUNE).batch(batch_size).prefetch(tf.data.AUTOTUNE)\n",
    "val_ds_multiview = val_ds.unbatch().map(multiview_fn, num_parallel_calls=tf.data.AUTOTUNE).batch(batch_size).prefetch(tf.data.AUTOTUNE)\n",
    "\n",
    "mask_map_fn_ = get_masking_fn(grayscale = grayscale, masking_rate = 0.6, patch_size = patch_size)\n",
    "def masking_function(image, label):\n",
    "    return mask_map_fn_(image)\n",
    "train_ds_masked = train_ds.map(masking_function, num_parallel_calls=tf.data.AUTOTUNE).prefetch(tf.data.AUTOTUNE).repeat()"
   ]
  },
  {
   "cell_type": "code",
   "execution_count": 8,
   "id": "37973963",
   "metadata": {
    "execution": {
     "iopub.execute_input": "2024-07-08T09:31:44.131491Z",
     "iopub.status.busy": "2024-07-08T09:31:44.131175Z",
     "iopub.status.idle": "2024-07-08T09:31:51.644030Z",
     "shell.execute_reply": "2024-07-08T09:31:51.643000Z"
    },
    "papermill": {
     "duration": 7.524163,
     "end_time": "2024-07-08T09:31:51.646599",
     "exception": false,
     "start_time": "2024-07-08T09:31:44.122436",
     "status": "completed"
    },
    "tags": []
   },
   "outputs": [],
   "source": [
    "for test_set in val_ds_multiview.take(1):\n",
    "    test_set = test_set"
   ]
  },
  {
   "cell_type": "markdown",
   "id": "c4e1f2df",
   "metadata": {
    "papermill": {
     "duration": 0.007465,
     "end_time": "2024-07-08T09:31:51.662047",
     "exception": false,
     "start_time": "2024-07-08T09:31:51.654582",
     "status": "completed"
    },
    "tags": []
   },
   "source": [
    "----------\n",
    "# Experiment - helper functions"
   ]
  },
  {
   "cell_type": "code",
   "execution_count": 9,
   "id": "8b8b4ef4",
   "metadata": {
    "execution": {
     "iopub.execute_input": "2024-07-08T09:31:51.678739Z",
     "iopub.status.busy": "2024-07-08T09:31:51.678419Z",
     "iopub.status.idle": "2024-07-08T09:31:54.423982Z",
     "shell.execute_reply": "2024-07-08T09:31:54.422901Z"
    },
    "papermill": {
     "duration": 2.756307,
     "end_time": "2024-07-08T09:31:54.426088",
     "exception": false,
     "start_time": "2024-07-08T09:31:51.669781",
     "status": "completed"
    },
    "tags": []
   },
   "outputs": [
    {
     "name": "stdout",
     "output_type": "stream",
     "text": [
      "Total train cases : 1303237, validation cases : 163796\n"
     ]
    }
   ],
   "source": [
    "df_train_rad = pd.read_csv(\"/kaggle/input/radimagenet-and-nih-cxr-dataset-tfrecord/RadImgNet_train.csv\")\n",
    "df_train_nih = pd.read_csv(\"/kaggle/input/radimagenet-and-nih-cxr-dataset-tfrecord/nih_trainval_split.csv\"\n",
    "                          )\n",
    "df_val_rad = pd.read_csv(\"/kaggle/input/radimagenet-and-nih-cxr-dataset-tfrecord/RadImgNet_test.csv\")\n",
    "df_val_nih = pd.read_csv(\"/kaggle/input/radimagenet-and-nih-cxr-dataset-tfrecord/nih_test_split.csv\")\n",
    "\n",
    "\n",
    "train_cases = len(df_train_rad) + len(df_train_nih) + len(df_val_nih)\n",
    "val_cases = len(df_val_rad)\n",
    "\n",
    "train_steps = train_cases//batch_size\n",
    "val_steps = val_cases//batch_size\n",
    "print(f\"Total train cases : {train_cases}, validation cases : {val_cases}\")"
   ]
  },
  {
   "cell_type": "code",
   "execution_count": 10,
   "id": "ab6afdea",
   "metadata": {
    "execution": {
     "iopub.execute_input": "2024-07-08T09:31:54.443665Z",
     "iopub.status.busy": "2024-07-08T09:31:54.443338Z",
     "iopub.status.idle": "2024-07-08T09:31:54.468621Z",
     "shell.execute_reply": "2024-07-08T09:31:54.467735Z"
    },
    "papermill": {
     "duration": 0.036408,
     "end_time": "2024-07-08T09:31:54.470595",
     "exception": false,
     "start_time": "2024-07-08T09:31:54.434187",
     "status": "completed"
    },
    "tags": []
   },
   "outputs": [],
   "source": [
    "class ModelSaveCallback(keras.callbacks.Callback):\n",
    "    def __init__(self, exp_name, **kwargs):\n",
    "        super().__init__(**kwargs)\n",
    "        self.exp_name = exp_name\n",
    "    def on_epoch_end(self, epoch, logs=None):\n",
    "        save_dir = \"/kaggle/working/\" ; target_dir = '/kaggle/working/model_save'\n",
    "        os.makedirs(target_dir, exist_ok = True)\n",
    "        if (epoch % 1 == 0):\n",
    "            try:\n",
    "                print(\"\\nModel Saving to local notebook...\")\n",
    "                file_name = f\"{self.exp_name}_{self.model.name}_keras_v3_Epoch{epoch}.keras\"\n",
    "                filepath = os.path.join(target_dir, file_name)\n",
    "                saved_dir = self.model.save(filepath, overwrite=True)\n",
    "                if (epoch+1) % 5 == 0:\n",
    "                    print(\"\\nModel Uploading to NAS...\")\n",
    "                    upload_file(file_name, filepath)\n",
    "                    print(\"\\nModel Saved to Local NAS\")\n",
    "            except Exception as e: \n",
    "                print('Model Saving Error:\\n', e)\n",
    "    def on_train_batch_end(self, batch, logs=None):\n",
    "        save_dir = \"/kaggle/working/\" ; target_dir = '/kaggle/working/model_save'\n",
    "        os.makedirs(target_dir, exist_ok = True)\n",
    "        if (batch % 50000 == 0) and (batch != 0): \n",
    "            try:\n",
    "                print(\"\\nModel Saving to local notebook...\")\n",
    "                file_name = f\"{self.exp_name}_{self.model.name}_keras_v3_Batch{batch}.keras\"\n",
    "                filepath = os.path.join(target_dir, file_name)\n",
    "                saved_dir = self.model.save(filepath, overwrite=True)\n",
    "                if (batch % 10000 == 0):\n",
    "                    print(\"\\nModel Uploading to NAS...\")\n",
    "                    upload_file(file_name, filepath)\n",
    "                    print(\"\\nModel Saved to Local NAS\")\n",
    "            except Exception as e: \n",
    "                print('Model Saving Error:\\n', e)\n",
    "                \n",
    "                \n",
    "class TrainingViz(keras.callbacks.Callback):\n",
    "    def __init__(self, run):\n",
    "        super().__init__()\n",
    "        self.run = run\n",
    "    def on_epoch_end(self, epoch, logs=None):\n",
    "        try:\n",
    "            configs = self.model.get_config() ; method = configs[\"SSL_method\"]\n",
    "            if method in [\"CLIP\" , \"SigLIP\", \"SPARC\"]:\n",
    "                feature_extractor = self.model\n",
    "            else:\n",
    "                try:\n",
    "                    feature_extractor = self.model.feature_extractor\n",
    "                except:\n",
    "                    feature_extractor = self.model.get_full_model(res = res)\n",
    "            viz_weights = ssl_module.att_visualize(feature_extractor, sample_img, res,\n",
    "                                                  thresholding = True)\n",
    "            viz_weights = np.array(viz_weights) #batch, heads, res, res, 3\n",
    "            heads = viz_weights.shape[1]\n",
    "            origin = [\"Original Image\"]\n",
    "            col = [f\"Head{idx + 1}\" for idx in range(heads)]\n",
    "            col = origin + col\n",
    "\n",
    "            visualize_data = []\n",
    "            for idx, weights in enumerate(viz_weights):\n",
    "                origin_img = [wandb.Image(sample_img[idx])]\n",
    "                tmp = [wandb.Image(weights[idx]) for idx in range(heads)]\n",
    "                tmp = origin_img + tmp\n",
    "                visualize_data.append(tmp)\n",
    "                del tmp, origin_img\n",
    "            tbl = wandb.Table(columns = col, data = visualize_data)\n",
    "            wandb.log({f\"Epoch{epoch+1}_{method}_result\": tbl})\n",
    "            del feature_extractor, tbl\n",
    "            tf.keras.backend.clear_session()\n",
    "        except Exception as e: \n",
    "                print('Model Saving Error:\\n', e)\n",
    "        \n",
    "    def on_train_batch_end(self, batch, logs=None):\n",
    "        if (batch % (10000) == 0) : \n",
    "            try:\n",
    "                configs = self.model.get_config() ; method = configs[\"SSL_method\"]\n",
    "                if method in [\"CLIP\" , \"SigLIP\", \"SPARC\"]:\n",
    "                    feature_extractor = self.model\n",
    "                else:\n",
    "                    try:\n",
    "                        feature_extractor = self.model.feature_extractor\n",
    "                    except:\n",
    "                        feature_extractor = self.model.get_full_model(res = res)\n",
    "                viz_weights = ssl_module.att_visualize(feature_extractor, sample_img, res,\n",
    "                                                      thresholding = True)\n",
    "                viz_weights = np.array(viz_weights) #batch, heads, res, res, 3\n",
    "                heads = viz_weights.shape[1]\n",
    "                origin = [\"Original Image\"]\n",
    "                col = [f\"Head{idx + 1}\" for idx in range(heads)]\n",
    "                col = origin + col\n",
    "                visualize_data = []\n",
    "                for idx, weights in enumerate(viz_weights):\n",
    "                    origin_img = [wandb.Image(sample_img[idx])]\n",
    "                    tmp = [wandb.Image(weights[idx]) for idx in range(heads)]\n",
    "                    tmp = origin_img + tmp\n",
    "                    visualize_data.append(tmp)\n",
    "                    del tmp, origin_img\n",
    "                tbl = wandb.Table(columns = col, data = visualize_data)\n",
    "                if batch == 0:\n",
    "                    wandb.log({f\"ZeroBatch_{method}_result\": tbl})\n",
    "                else:\n",
    "                    wandb.log({f\"MidEpoch_{method}_result\": tbl})\n",
    "                del feature_extractor, tbl\n",
    "                tf.keras.backend.clear_session()\n",
    "            except Exception as e:\n",
    "                print(\"Error code in callback : \", e)\n",
    "           \n",
    "        else:\n",
    "            pass"
   ]
  },
  {
   "cell_type": "markdown",
   "id": "f0926608",
   "metadata": {
    "papermill": {
     "duration": 0.007816,
     "end_time": "2024-07-08T09:31:54.486579",
     "exception": false,
     "start_time": "2024-07-08T09:31:54.478763",
     "status": "completed"
    },
    "tags": []
   },
   "source": [
    "> Real world evaluation and Segmentation callback"
   ]
  },
  {
   "cell_type": "code",
   "execution_count": 11,
   "id": "01158623",
   "metadata": {
    "execution": {
     "iopub.execute_input": "2024-07-08T09:31:54.503349Z",
     "iopub.status.busy": "2024-07-08T09:31:54.502684Z",
     "iopub.status.idle": "2024-07-08T09:31:55.575846Z",
     "shell.execute_reply": "2024-07-08T09:31:55.574898Z"
    },
    "jupyter": {
     "source_hidden": true
    },
    "papermill": {
     "duration": 1.08404,
     "end_time": "2024-07-08T09:31:55.578245",
     "exception": false,
     "start_time": "2024-07-08T09:31:54.494205",
     "status": "completed"
    },
    "tags": []
   },
   "outputs": [],
   "source": [
    "real_world_dir = \"/kaggle/input/real-world-medical-image-dataset-for-evaluation\" ; filenames_ = os.listdir(real_world_dir)\n",
    "filenames_.sort()\n",
    "labels_ = [name.split('.')[0] for name in filenames_]\n",
    "real_world_files = [os.path.join(real_world_dir, paths) for paths in filenames_]\n",
    "def get_img_tensor(path, res = res) :\n",
    "    file = tf.io.read_file(path)\n",
    "    c = 3 if grayscale else 1\n",
    "    image = tf.io.decode_image(file, channels=c)\n",
    "    image = tf.image.resize_with_pad(image, res, res, antialias = True)\n",
    "    image = ops.cast(image, \"uint8\")\n",
    "    return image\n",
    "real_world_images = [get_img_tensor(f) for f in real_world_files]"
   ]
  },
  {
   "cell_type": "code",
   "execution_count": 12,
   "id": "1975e7d0",
   "metadata": {
    "execution": {
     "iopub.execute_input": "2024-07-08T09:31:55.596359Z",
     "iopub.status.busy": "2024-07-08T09:31:55.595640Z",
     "iopub.status.idle": "2024-07-08T09:31:55.615233Z",
     "shell.execute_reply": "2024-07-08T09:31:55.614385Z"
    },
    "papermill": {
     "duration": 0.030466,
     "end_time": "2024-07-08T09:31:55.617220",
     "exception": false,
     "start_time": "2024-07-08T09:31:55.586754",
     "status": "completed"
    },
    "tags": []
   },
   "outputs": [],
   "source": [
    "class RealWorldViz(keras.callbacks.Callback):\n",
    "    def __init__(self, run):\n",
    "        super().__init__()\n",
    "        self.run = run\n",
    "    \n",
    "    def on_train_batch_end(self, batch, logs=None):\n",
    "        if (batch % (10000) == 0) : \n",
    "            try:\n",
    "                configs = self.model.get_config() ; method = configs[\"SSL_method\"]\n",
    "                if method in [\"CLIP\" , \"SigLIP\", \"SPARC\"]:\n",
    "                    feature_extractor = self.model\n",
    "                else:\n",
    "                    try:\n",
    "                        feature_extractor = self.model.feature_extractor\n",
    "                    except:\n",
    "                        feature_extractor = self.model.get_full_model(res = res)\n",
    "                viz_weights = ssl_module.att_visualize(feature_extractor, real_world_images, res,\n",
    "                                                      thresholding = True)\n",
    "                viz_weights = np.array(viz_weights) #batch, heads, res, res, 3\n",
    "                heads = viz_weights.shape[1]\n",
    "                origin = [\"Original Image\"]\n",
    "                col = [f\"Head{idx + 1}\" for idx in range(heads)]\n",
    "                col = origin + [\"Original Label\"] + col\n",
    "                visualize_data = []\n",
    "                for idx, weights in enumerate(viz_weights):\n",
    "                    origin_img = [wandb.Image(sample_img[idx])]\n",
    "                    lab = list(labels_[idx])\n",
    "                    tmp = [wandb.Image(weights[idx]) for idx in range(heads)]\n",
    "                    tmp = origin_img + lab + tmp\n",
    "                    visualize_data.append(tmp)\n",
    "                    del tmp, origin_img\n",
    "                tbl = wandb.Table(columns = col, data = visualize_data)\n",
    "                if batch == 0:\n",
    "                    wandb.log({f\"RW_ZeroBatch_{method}_result\": tbl})\n",
    "                else:\n",
    "                    wandb.log({f\"RW_MidEpoch_{method}_result\": tbl})\n",
    "                del feature_extractor, tbl\n",
    "                tf.keras.backend.clear_session()\n",
    "            except Exception as e:\n",
    "                print(\"Error code in callback : \", e)\n",
    "        else:\n",
    "            pass\n",
    "        \n",
    "        \n",
    "class SegViz(keras.callbacks.Callback):\n",
    "    def __init__(self, run, images, labels = None):\n",
    "        super().__init__()\n",
    "        self.run = run\n",
    "        self.images = images\n",
    "        self.labels = labels\n",
    "    def on_train_batch_end(self, batch, logs=None):\n",
    "        configs = self.model.get_config() ; method = configs[\"SSL_method\"]\n",
    "        if (batch % (10000) == 0) and  (method in [\"UnsupSeg\", \"MixedUnsupSeg\"]): \n",
    "            try:\n",
    "                heatmap, superimposed_images = self.model.get_segments(self.images)\n",
    "                heads = viz_weights.shape[1]\n",
    "                origin = [\"Original Image\"]\n",
    "                col = origin + [\"Original Label\"] + [\"Segmentation Result\"]\n",
    "                visualize_data = []\n",
    "                for idx, sup_img in enumerate(superimposed_images):\n",
    "                    origin_img = [wandb.Image(self.images[idx])]\n",
    "                    if self.labels is None:\n",
    "                        lab = [\"Label not provided.\"]\n",
    "                    else:\n",
    "                        lab = list(self.labels[idx]) \n",
    "                    tmp = [wandb.Image(sup_img)]\n",
    "                    tmp = origin_img + lab + tmp\n",
    "                    visualize_data.append(tmp)\n",
    "                    del tmp, origin_img\n",
    "                tbl = wandb.Table(columns = col, data = visualize_data)\n",
    "                if batch == 0:\n",
    "                    wandb.log({f\"Seg_ZeroBatch_{method}_result\": tbl})\n",
    "                else:\n",
    "                    wandb.log({f\"Seg_MidEpoch_{method}_result\": tbl})\n",
    "                del feature_extractor, tbl\n",
    "                tf.keras.backend.clear_session()\n",
    "            except Exception as e:\n",
    "                print(\"Error code in Segmentation callback : \", e)\n",
    "        else:\n",
    "            pass"
   ]
  },
  {
   "cell_type": "code",
   "execution_count": 13,
   "id": "b4e3d9da",
   "metadata": {
    "execution": {
     "iopub.execute_input": "2024-07-08T09:31:55.634055Z",
     "iopub.status.busy": "2024-07-08T09:31:55.633804Z",
     "iopub.status.idle": "2024-07-08T09:31:55.646558Z",
     "shell.execute_reply": "2024-07-08T09:31:55.645891Z"
    },
    "papermill": {
     "duration": 0.023348,
     "end_time": "2024-07-08T09:31:55.648307",
     "exception": false,
     "start_time": "2024-07-08T09:31:55.624959",
     "status": "completed"
    },
    "tags": []
   },
   "outputs": [],
   "source": [
    "def run_exp(model, train_ds = train_ds, val_ds = val_ds, epochs = 10, note= None, exp_name = None):\n",
    "    try:\n",
    "        wandb.finish()\n",
    "    except:\n",
    "        pass\n",
    "    \n",
    "    if True :\n",
    "        wandb_config()\n",
    "        configs = model.get_config()\n",
    "        method = configs[\"SSL_method\"]\n",
    "        try:\n",
    "            feature_extractor = model.feature_extractor\n",
    "        except:\n",
    "            feature_extractor = model.get_full_model(res = res)\n",
    "        \n",
    "        if method in ['CLIP', \"SigLIP\", \"SPARC\"]:\n",
    "            _ = model((example_images[:2], example_reports[:2]))\n",
    "        elif method in [\"SimMIM\", \"MixedMIM\",\"DistilMIM\"]:\n",
    "            pass\n",
    "        else:\n",
    "            _ = model(test_set)\n",
    "        feature_extractor_flops = get_flops(feature_extractor, [tf.random.normal([1,res,res,grayscale])])\n",
    "        del feature_extractor\n",
    "        \n",
    "        env_config = {\"batch_size\" : batch_size, \"Patch size\": patch_size,\n",
    "                      \"original resolution\" : res, \"local view resolution\" : small_res,\n",
    "                     \"Training steps\" : train_steps,\n",
    "                     \"Val steps\" : val_steps,\n",
    "                     \"train cases\" : train_cases,\n",
    "                     \"val cases\" : val_cases,\n",
    "                     \"embed_dims\" : embed_dims,\n",
    "                     \"Image resolution\" : res,\n",
    "                     \"(Image) Encoder Flops(G)\" : feature_extractor_flops,\n",
    "                     \"dtype\" : keras.mixed_precision.dtype_policy(),\n",
    "                      \"Optimizer configs\" : model.optimizer.get_config(),\n",
    "                      \"Multicrop N\" : n_multicrop,\n",
    "                     }\n",
    "        configs.update(env_config)\n",
    "        \n",
    "        wd = \"/kaggle/working/\"\n",
    "        file_name = os.path.join(wd, f\"{method}_radimgnet_mini.keras\")\n",
    "        print(configs, \"\\n\\n\")\n",
    "        model.summary()\n",
    "        run = wandb.init(project=\"RadImageNet\", \n",
    "                         entity=\"gongbungkim\", config = configs, notes = note,\n",
    "                        name = exp_name)\n",
    "\n",
    "        pass_error = keras.callbacks.TerminateOnNaN()\n",
    "        wb_callback = wandb.keras.WandbMetricsLogger(log_freq = 100)\n",
    "        \n",
    "        callbacks = [pass_error, wb_callback, ModelSaveCallback(f\"RI_SSL_{method}\"), \n",
    "                     TrainingViz(run),\n",
    "                    RealWorldViz(run),\n",
    "                    SegViz(run, images = sample_img),\n",
    "                    SegViz(run, images = real_world_images, labels = labels_)]\n",
    "        if val_ds is not None:\n",
    "            hist = model.fit(train_ds, \n",
    "                             steps_per_epoch = train_steps, \n",
    "                             epochs = epochs, \n",
    "                             validation_data = val_ds, \n",
    "                             validation_steps = val_steps, \n",
    "                             verbose = 1,\n",
    "                             callbacks = callbacks)\n",
    "        else:\n",
    "            hist = model.fit(train_ds, \n",
    "                         steps_per_epoch = train_steps, \n",
    "                         epochs = epochs, \n",
    "                         verbose = 1,\n",
    "                         callbacks = callbacks)\n",
    "    return hist"
   ]
  },
  {
   "cell_type": "code",
   "execution_count": 14,
   "id": "3ebbc137",
   "metadata": {
    "execution": {
     "iopub.execute_input": "2024-07-08T09:31:55.665159Z",
     "iopub.status.busy": "2024-07-08T09:31:55.664866Z",
     "iopub.status.idle": "2024-07-08T09:31:55.669846Z",
     "shell.execute_reply": "2024-07-08T09:31:55.669105Z"
    },
    "papermill": {
     "duration": 0.015401,
     "end_time": "2024-07-08T09:31:55.671554",
     "exception": false,
     "start_time": "2024-07-08T09:31:55.656153",
     "status": "completed"
    },
    "tags": []
   },
   "outputs": [],
   "source": [
    "cosine_decay = keras.optimizers.schedules.CosineDecay(\n",
    "    initial_learning_rate = 1e-6,\n",
    "    decay_steps = int(0.5*train_steps),\n",
    "    alpha=1e-5,\n",
    "    name='CosineDecay',\n",
    "    warmup_target=2e-4,\n",
    "    warmup_steps=train_steps - int(0.3*train_steps)\n",
    ")\n",
    "\n",
    "lr_schedule = keras.optimizers.schedules.ExponentialDecay(\n",
    "    initial_learning_rate = 2e-4,\n",
    "    decay_steps=20000,\n",
    "    decay_rate=0.75,\n",
    "    staircase=True)"
   ]
  },
  {
   "cell_type": "code",
   "execution_count": 15,
   "id": "3a49bb37",
   "metadata": {
    "execution": {
     "iopub.execute_input": "2024-07-08T09:31:55.688209Z",
     "iopub.status.busy": "2024-07-08T09:31:55.687937Z",
     "iopub.status.idle": "2024-07-08T09:31:55.694737Z",
     "shell.execute_reply": "2024-07-08T09:31:55.693995Z"
    },
    "papermill": {
     "duration": 0.017063,
     "end_time": "2024-07-08T09:31:55.696507",
     "exception": false,
     "start_time": "2024-07-08T09:31:55.679444",
     "status": "completed"
    },
    "tags": []
   },
   "outputs": [],
   "source": [
    "def ssl_train(module, feature_extractor, learning_rate = lr_schedule,\n",
    "              embed_dims = embed_dims, multiview = True, gradient_accumulation = None, use_ema = False,\n",
    "             note = \"\", name = \"\",\n",
    "             apply_barlow = False, apply_simclr = False):\n",
    "    try:\n",
    "        ssl_trainer = module(feature_extractor, embed_dims = embed_dims, multiview = multiview,\n",
    "                            apply_barlow = apply_barlow, apply_simclr = apply_simclr)\n",
    "    except Exception as e:\n",
    "        print(\"Error : \",e)\n",
    "        ssl_trainer = module(feature_extractor, embed_dims = embed_dims, multiview = multiview)\n",
    "    ssl_trainer.compile(optimizer = keras.optimizers.Adam(learning_rate = learning_rate,\n",
    "                                                         clipnorm = 0.5,\n",
    "                                                         #amsgrad = True,\n",
    "                                                           gradient_accumulation_steps=gradient_accumulation,\n",
    "                                                         use_ema = use_ema),\n",
    "                        jit_compile = False\n",
    "                      )\n",
    "    \n",
    "    run_exp(ssl_trainer, train_ds_multiview, None, epochs = 100,\n",
    "       note = \"Without validation d/t lack of resources \" + note, exp_name = name)"
   ]
  },
  {
   "cell_type": "code",
   "execution_count": 16,
   "id": "43b8c983",
   "metadata": {
    "execution": {
     "iopub.execute_input": "2024-07-08T09:31:55.713210Z",
     "iopub.status.busy": "2024-07-08T09:31:55.712942Z",
     "iopub.status.idle": "2024-07-08T09:31:55.716543Z",
     "shell.execute_reply": "2024-07-08T09:31:55.715808Z"
    },
    "papermill": {
     "duration": 0.01395,
     "end_time": "2024-07-08T09:31:55.718377",
     "exception": false,
     "start_time": "2024-07-08T09:31:55.704427",
     "status": "completed"
    },
    "tags": []
   },
   "outputs": [],
   "source": [
    "ibot = 0\n",
    "other = 0\n",
    "mim = 0"
   ]
  },
  {
   "cell_type": "code",
   "execution_count": 17,
   "id": "cc447a21",
   "metadata": {
    "execution": {
     "iopub.execute_input": "2024-07-08T09:31:55.735197Z",
     "iopub.status.busy": "2024-07-08T09:31:55.734902Z",
     "iopub.status.idle": "2024-07-08T09:31:55.742529Z",
     "shell.execute_reply": "2024-07-08T09:31:55.741732Z"
    },
    "papermill": {
     "duration": 0.018146,
     "end_time": "2024-07-08T09:31:55.744464",
     "exception": false,
     "start_time": "2024-07-08T09:31:55.726318",
     "status": "completed"
    },
    "tags": []
   },
   "outputs": [],
   "source": [
    "if mim:\n",
    "    model_ = 'gMLP'\n",
    "    if pretrained_encoder is None:\n",
    "        note = \"From Scratch\"\n",
    "        assert grayscale is True, \"If building from scratch, make sure [grayscale = True]\"\n",
    "    else:\n",
    "        note = f\"With pretrained {pretrained_encoder.name}\"\n",
    "        assert grayscale is False, \"If using pretrained network, make sure [grayscale = False]\"\n",
    "    vanilla_model = ssl_module.get_metaformer(model_, res = res, embed_dims = 512, \n",
    "                                              att_depth = depth, att_heads = heads,att_dims = att_dims,\n",
    "                                              grayscale = grayscale, patch_size = patch_size, \n",
    "                                              register_tokens = 8,\n",
    "                                             pretrained_encoder = pretrained_encoder,\n",
    "                                             return_patches = True)\n",
    "    vanilla_model.summary()\n",
    "    #ssl_trainer = ssl_module.MixedMIM(vanilla_model, grayscale = grayscale, patch_size = patch_size)\n",
    "    ssl_trainer = ssl_modue.MixedUnsupSeg(vanilla_model, q = 20, mu = 1.0)\n",
    "    \n",
    "    ssl_trainer.compile(optimizer = keras.optimizers.AdamW(learning_rate = 1e-4, \n",
    "                                                           clipnorm = 0.5,\n",
    "                                                           gradient_accumulation_steps=32,\n",
    "                                                          # use_ema = True\n",
    "                                                          ),\n",
    "                        jit_compile = False\n",
    "                      )\n",
    "    configs = ssl_trainer.get_config()\n",
    "    method = configs[\"SSL_method\"]\n",
    "    \n",
    "    ssl_trainer.summary()\n",
    "    \n",
    "    \n",
    "    run_exp(ssl_trainer, train_ds_masked, None, \n",
    "           note = note + \", Tri-tokenwise learning\", exp_name = f\"{method}_{model_}\")"
   ]
  },
  {
   "cell_type": "code",
   "execution_count": 18,
   "id": "6373cce3",
   "metadata": {
    "_kg_hide-input": true,
    "execution": {
     "iopub.execute_input": "2024-07-08T09:31:55.761428Z",
     "iopub.status.busy": "2024-07-08T09:31:55.761188Z",
     "iopub.status.idle": "2024-07-08T09:31:55.766534Z",
     "shell.execute_reply": "2024-07-08T09:31:55.765757Z"
    },
    "papermill": {
     "duration": 0.015807,
     "end_time": "2024-07-08T09:31:55.768296",
     "exception": false,
     "start_time": "2024-07-08T09:31:55.752489",
     "status": "completed"
    },
    "tags": []
   },
   "outputs": [],
   "source": [
    "if ibot:\n",
    "    ssl_trainer = ssl_module.iBOT(att_depth = depth, att_dims = att_dims, att_heads = heads,\n",
    "                                  embed_dims = 2048, patch_size = patch_size,\n",
    "\n",
    "                                  multiview = True, apply_simclr = False,\n",
    "                                  grayscale = True\n",
    "                                 )\n",
    "    ssl_trainer.compile(optimizer = keras.optimizers.AdamW(learning_rate = lr_schedule,\n",
    "                                                         clipnorm = 1.0, use_ema = True),\n",
    "                       jit_compile = False)\n",
    "    run_exp(ssl_trainer, train_ds_multiview, None, epochs = 100,\n",
    "           note = \"+ NEW aug, New Patching\", exp_name = \"iBOT_VanillaViT\")"
   ]
  },
  {
   "cell_type": "code",
   "execution_count": 19,
   "id": "ee4b7555",
   "metadata": {
    "execution": {
     "iopub.execute_input": "2024-07-08T09:31:55.785516Z",
     "iopub.status.busy": "2024-07-08T09:31:55.784991Z",
     "iopub.status.idle": "2024-07-08T09:31:55.791093Z",
     "shell.execute_reply": "2024-07-08T09:31:55.790252Z"
    },
    "papermill": {
     "duration": 0.016594,
     "end_time": "2024-07-08T09:31:55.792897",
     "exception": false,
     "start_time": "2024-07-08T09:31:55.776303",
     "status": "completed"
    },
    "tags": []
   },
   "outputs": [],
   "source": [
    "if other:\n",
    "    model_ = 'gMLP'\n",
    "    if pretrained_encoder is None:\n",
    "        note = \"From Scratch\"\n",
    "        assert grayscale is True, \"If building from scratch, make sure [grayscale = True]\"\n",
    "    else:\n",
    "        note = f\"With pretrained {pretrained_encoder.name}\"\n",
    "        assert grayscale is False, \"If using pretrained network, make sure [grayscale = False]\"\n",
    "    vanilla_model = ssl_module.get_metaformer(model_, res = res, embed_dims = embed_dims, \n",
    "                                              att_depth = depth, att_heads = heads,att_dims = att_dims,\n",
    "                                              grayscale = grayscale, patch_size = patch_size, \n",
    "                                              register_tokens = 4,\n",
    "                                             pretrained_encoder = pretrained_encoder)\n",
    "    ssl_train(ssl_module.DINO, vanilla_model, \n",
    "             note = note + \" / 2-view\",\n",
    "             name = f\"DINO_{model_}_reg\",\n",
    "             learning_rate = lr_schedule,\n",
    "             multiview = False,\n",
    "             gradient_accumulation = 32)"
   ]
  }
 ],
 "metadata": {
  "kaggle": {
   "accelerator": "gpu",
   "dataSources": [
    {
     "datasetId": 5051531,
     "sourceId": 8471595,
     "sourceType": "datasetVersion"
    },
    {
     "datasetId": 5112865,
     "sourceId": 8556597,
     "sourceType": "datasetVersion"
    },
    {
     "datasetId": 5323611,
     "sourceId": 8845065,
     "sourceType": "datasetVersion"
    },
    {
     "sourceId": 169421886,
     "sourceType": "kernelVersion"
    },
    {
     "sourceId": 186865439,
     "sourceType": "kernelVersion"
    }
   ],
   "isGpuEnabled": true,
   "isInternetEnabled": true,
   "language": "python",
   "sourceType": "notebook"
  },
  "kernelspec": {
   "display_name": "Python 3",
   "language": "python",
   "name": "python3"
  },
  "language_info": {
   "codemirror_mode": {
    "name": "ipython",
    "version": 3
   },
   "file_extension": ".py",
   "mimetype": "text/x-python",
   "name": "python",
   "nbconvert_exporter": "python",
   "pygments_lexer": "ipython3",
   "version": "3.10.13"
  },
  "papermill": {
   "default_parameters": {},
   "duration": 90.163897,
   "end_time": "2024-07-08T09:31:59.113676",
   "environment_variables": {},
   "exception": null,
   "input_path": "__notebook__.ipynb",
   "output_path": "__notebook__.ipynb",
   "parameters": {},
   "start_time": "2024-07-08T09:30:28.949779",
   "version": "2.5.0"
  }
 },
 "nbformat": 4,
 "nbformat_minor": 5
}
